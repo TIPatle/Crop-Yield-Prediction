{
 "cells": [
  {
   "cell_type": "code",
   "execution_count": 1,
   "id": "29eeb794",
   "metadata": {
    "execution": {
     "iopub.execute_input": "2023-05-27T14:58:57.763895Z",
     "iopub.status.busy": "2023-05-27T14:58:57.763503Z",
     "iopub.status.idle": "2023-05-27T14:58:59.083463Z",
     "shell.execute_reply": "2023-05-27T14:58:59.082405Z"
    },
    "papermill": {
     "duration": 1.351466,
     "end_time": "2023-05-27T14:58:59.086393",
     "exception": false,
     "start_time": "2023-05-27T14:58:57.734927",
     "status": "completed"
    },
    "tags": []
   },
   "outputs": [],
   "source": [
    "import numpy as np\n",
    "import pandas as pd\n",
    "import seaborn as sns\n",
    "import matplotlib.pyplot as plt"
   ]
  },
  {
   "cell_type": "code",
   "execution_count": 2,
   "id": "a4cac72e",
   "metadata": {
    "execution": {
     "iopub.execute_input": "2023-05-27T14:58:59.138768Z",
     "iopub.status.busy": "2023-05-27T14:58:59.138328Z",
     "iopub.status.idle": "2023-05-27T14:58:59.412510Z",
     "shell.execute_reply": "2023-05-27T14:58:59.411613Z"
    },
    "papermill": {
     "duration": 0.303659,
     "end_time": "2023-05-27T14:58:59.415192",
     "exception": false,
     "start_time": "2023-05-27T14:58:59.111533",
     "status": "completed"
    },
    "tags": []
   },
   "outputs": [],
   "source": [
    "yield_data = pd.read_csv(r'/home/tipatle/Project/Crop Yield Prediction/Data/yield.csv')\n",
    "temp_data = pd.read_csv(r'/home/tipatle/Project/Crop Yield Prediction/Data/temp.csv')\n",
    "rainfall_data = pd.read_csv(r'/home/tipatle/Project/Crop Yield Prediction/Data/rainfall.csv')\n",
    "pesticides_data = pd.read_csv(r'/home/tipatle/Project/Crop Yield Prediction/Data/pesticides.csv')"
   ]
  },
  {
   "cell_type": "code",
   "execution_count": 3,
   "id": "9b86ef28",
   "metadata": {
    "execution": {
     "iopub.execute_input": "2023-05-27T14:58:59.468542Z",
     "iopub.status.busy": "2023-05-27T14:58:59.467865Z",
     "iopub.status.idle": "2023-05-27T14:58:59.506859Z",
     "shell.execute_reply": "2023-05-27T14:58:59.505738Z"
    },
    "papermill": {
     "duration": 0.06863,
     "end_time": "2023-05-27T14:58:59.509461",
     "exception": false,
     "start_time": "2023-05-27T14:58:59.440831",
     "status": "completed"
    },
    "tags": []
   },
   "outputs": [
    {
     "data": {
      "text/html": [
       "<div>\n",
       "<style scoped>\n",
       "    .dataframe tbody tr th:only-of-type {\n",
       "        vertical-align: middle;\n",
       "    }\n",
       "\n",
       "    .dataframe tbody tr th {\n",
       "        vertical-align: top;\n",
       "    }\n",
       "\n",
       "    .dataframe thead th {\n",
       "        text-align: right;\n",
       "    }\n",
       "</style>\n",
       "<table border=\"1\" class=\"dataframe\">\n",
       "  <thead>\n",
       "    <tr style=\"text-align: right;\">\n",
       "      <th></th>\n",
       "      <th>Domain Code</th>\n",
       "      <th>Domain</th>\n",
       "      <th>Area Code</th>\n",
       "      <th>Area</th>\n",
       "      <th>Element Code</th>\n",
       "      <th>Element</th>\n",
       "      <th>Item Code</th>\n",
       "      <th>Item</th>\n",
       "      <th>Year Code</th>\n",
       "      <th>Year</th>\n",
       "      <th>Unit</th>\n",
       "      <th>Value</th>\n",
       "    </tr>\n",
       "  </thead>\n",
       "  <tbody>\n",
       "    <tr>\n",
       "      <th>32567</th>\n",
       "      <td>QC</td>\n",
       "      <td>Crops</td>\n",
       "      <td>137</td>\n",
       "      <td>Mauritius</td>\n",
       "      <td>5419</td>\n",
       "      <td>Yield</td>\n",
       "      <td>125</td>\n",
       "      <td>Cassava</td>\n",
       "      <td>2004</td>\n",
       "      <td>2004</td>\n",
       "      <td>hg/ha</td>\n",
       "      <td>187500</td>\n",
       "    </tr>\n",
       "    <tr>\n",
       "      <th>22693</th>\n",
       "      <td>QC</td>\n",
       "      <td>Crops</td>\n",
       "      <td>175</td>\n",
       "      <td>Guinea-Bissau</td>\n",
       "      <td>5419</td>\n",
       "      <td>Yield</td>\n",
       "      <td>125</td>\n",
       "      <td>Cassava</td>\n",
       "      <td>1998</td>\n",
       "      <td>1998</td>\n",
       "      <td>hg/ha</td>\n",
       "      <td>152381</td>\n",
       "    </tr>\n",
       "    <tr>\n",
       "      <th>2041</th>\n",
       "      <td>QC</td>\n",
       "      <td>Crops</td>\n",
       "      <td>10</td>\n",
       "      <td>Australia</td>\n",
       "      <td>5419</td>\n",
       "      <td>Yield</td>\n",
       "      <td>56</td>\n",
       "      <td>Maize</td>\n",
       "      <td>2005</td>\n",
       "      <td>2005</td>\n",
       "      <td>hg/ha</td>\n",
       "      <td>57983</td>\n",
       "    </tr>\n",
       "    <tr>\n",
       "      <th>22447</th>\n",
       "      <td>QC</td>\n",
       "      <td>Crops</td>\n",
       "      <td>90</td>\n",
       "      <td>Guinea</td>\n",
       "      <td>5419</td>\n",
       "      <td>Yield</td>\n",
       "      <td>116</td>\n",
       "      <td>Potatoes</td>\n",
       "      <td>2009</td>\n",
       "      <td>2009</td>\n",
       "      <td>hg/ha</td>\n",
       "      <td>89880</td>\n",
       "    </tr>\n",
       "    <tr>\n",
       "      <th>16337</th>\n",
       "      <td>QC</td>\n",
       "      <td>Crops</td>\n",
       "      <td>56</td>\n",
       "      <td>Dominican Republic</td>\n",
       "      <td>5419</td>\n",
       "      <td>Yield</td>\n",
       "      <td>137</td>\n",
       "      <td>Yams</td>\n",
       "      <td>1983</td>\n",
       "      <td>1983</td>\n",
       "      <td>hg/ha</td>\n",
       "      <td>56244</td>\n",
       "    </tr>\n",
       "  </tbody>\n",
       "</table>\n",
       "</div>"
      ],
      "text/plain": [
       "      Domain Code Domain  Area Code                Area  Element Code Element   \n",
       "32567          QC  Crops        137           Mauritius          5419   Yield  \\\n",
       "22693          QC  Crops        175       Guinea-Bissau          5419   Yield   \n",
       "2041           QC  Crops         10           Australia          5419   Yield   \n",
       "22447          QC  Crops         90              Guinea          5419   Yield   \n",
       "16337          QC  Crops         56  Dominican Republic          5419   Yield   \n",
       "\n",
       "       Item Code      Item  Year Code  Year   Unit   Value  \n",
       "32567        125   Cassava       2004  2004  hg/ha  187500  \n",
       "22693        125   Cassava       1998  1998  hg/ha  152381  \n",
       "2041          56     Maize       2005  2005  hg/ha   57983  \n",
       "22447        116  Potatoes       2009  2009  hg/ha   89880  \n",
       "16337        137      Yams       1983  1983  hg/ha   56244  "
      ]
     },
     "execution_count": 3,
     "metadata": {},
     "output_type": "execute_result"
    }
   ],
   "source": [
    "yield_data.sample(5)"
   ]
  },
  {
   "cell_type": "code",
   "execution_count": 4,
   "id": "ea9c8ded",
   "metadata": {
    "execution": {
     "iopub.execute_input": "2023-05-27T14:58:59.563016Z",
     "iopub.status.busy": "2023-05-27T14:58:59.562368Z",
     "iopub.status.idle": "2023-05-27T14:58:59.576727Z",
     "shell.execute_reply": "2023-05-27T14:58:59.575598Z"
    },
    "papermill": {
     "duration": 0.044064,
     "end_time": "2023-05-27T14:58:59.579092",
     "exception": false,
     "start_time": "2023-05-27T14:58:59.535028",
     "status": "completed"
    },
    "tags": []
   },
   "outputs": [
    {
     "data": {
      "text/html": [
       "<div>\n",
       "<style scoped>\n",
       "    .dataframe tbody tr th:only-of-type {\n",
       "        vertical-align: middle;\n",
       "    }\n",
       "\n",
       "    .dataframe tbody tr th {\n",
       "        vertical-align: top;\n",
       "    }\n",
       "\n",
       "    .dataframe thead th {\n",
       "        text-align: right;\n",
       "    }\n",
       "</style>\n",
       "<table border=\"1\" class=\"dataframe\">\n",
       "  <thead>\n",
       "    <tr style=\"text-align: right;\">\n",
       "      <th></th>\n",
       "      <th>year</th>\n",
       "      <th>country</th>\n",
       "      <th>avg_temp</th>\n",
       "    </tr>\n",
       "  </thead>\n",
       "  <tbody>\n",
       "    <tr>\n",
       "      <th>27108</th>\n",
       "      <td>1893</td>\n",
       "      <td>India</td>\n",
       "      <td>23.65</td>\n",
       "    </tr>\n",
       "    <tr>\n",
       "      <th>48565</th>\n",
       "      <td>1867</td>\n",
       "      <td>Burkina Faso</td>\n",
       "      <td>NaN</td>\n",
       "    </tr>\n",
       "    <tr>\n",
       "      <th>1628</th>\n",
       "      <td>1957</td>\n",
       "      <td>United States</td>\n",
       "      <td>11.44</td>\n",
       "    </tr>\n",
       "    <tr>\n",
       "      <th>60159</th>\n",
       "      <td>1933</td>\n",
       "      <td>Singapore</td>\n",
       "      <td>26.37</td>\n",
       "    </tr>\n",
       "    <tr>\n",
       "      <th>13355</th>\n",
       "      <td>1851</td>\n",
       "      <td>Venezuela</td>\n",
       "      <td>24.54</td>\n",
       "    </tr>\n",
       "  </tbody>\n",
       "</table>\n",
       "</div>"
      ],
      "text/plain": [
       "       year        country  avg_temp\n",
       "27108  1893          India     23.65\n",
       "48565  1867   Burkina Faso       NaN\n",
       "1628   1957  United States     11.44\n",
       "60159  1933      Singapore     26.37\n",
       "13355  1851      Venezuela     24.54"
      ]
     },
     "execution_count": 4,
     "metadata": {},
     "output_type": "execute_result"
    }
   ],
   "source": [
    "temp_data.sample(5)"
   ]
  },
  {
   "cell_type": "code",
   "execution_count": 5,
   "id": "a7383860",
   "metadata": {
    "execution": {
     "iopub.execute_input": "2023-05-27T14:58:59.632696Z",
     "iopub.status.busy": "2023-05-27T14:58:59.632270Z",
     "iopub.status.idle": "2023-05-27T14:58:59.644242Z",
     "shell.execute_reply": "2023-05-27T14:58:59.642858Z"
    },
    "papermill": {
     "duration": 0.041815,
     "end_time": "2023-05-27T14:58:59.646703",
     "exception": false,
     "start_time": "2023-05-27T14:58:59.604888",
     "status": "completed"
    },
    "tags": []
   },
   "outputs": [
    {
     "data": {
      "text/html": [
       "<div>\n",
       "<style scoped>\n",
       "    .dataframe tbody tr th:only-of-type {\n",
       "        vertical-align: middle;\n",
       "    }\n",
       "\n",
       "    .dataframe tbody tr th {\n",
       "        vertical-align: top;\n",
       "    }\n",
       "\n",
       "    .dataframe thead th {\n",
       "        text-align: right;\n",
       "    }\n",
       "</style>\n",
       "<table border=\"1\" class=\"dataframe\">\n",
       "  <thead>\n",
       "    <tr style=\"text-align: right;\">\n",
       "      <th></th>\n",
       "      <th>Area</th>\n",
       "      <th>Year</th>\n",
       "      <th>average_rain_fall_mm_per_year</th>\n",
       "    </tr>\n",
       "  </thead>\n",
       "  <tbody>\n",
       "    <tr>\n",
       "      <th>3506</th>\n",
       "      <td>Libya</td>\n",
       "      <td>1989</td>\n",
       "      <td>56</td>\n",
       "    </tr>\n",
       "    <tr>\n",
       "      <th>4860</th>\n",
       "      <td>Poland</td>\n",
       "      <td>2011</td>\n",
       "      <td>600</td>\n",
       "    </tr>\n",
       "    <tr>\n",
       "      <th>1314</th>\n",
       "      <td>Colombia</td>\n",
       "      <td>1998</td>\n",
       "      <td>3240</td>\n",
       "    </tr>\n",
       "    <tr>\n",
       "      <th>5555</th>\n",
       "      <td>Spain</td>\n",
       "      <td>1992</td>\n",
       "      <td>636</td>\n",
       "    </tr>\n",
       "    <tr>\n",
       "      <th>3336</th>\n",
       "      <td>Kyrgyz Republic</td>\n",
       "      <td>2006</td>\n",
       "      <td>533</td>\n",
       "    </tr>\n",
       "  </tbody>\n",
       "</table>\n",
       "</div>"
      ],
      "text/plain": [
       "                 Area  Year average_rain_fall_mm_per_year\n",
       "3506            Libya  1989                            56\n",
       "4860           Poland  2011                           600\n",
       "1314         Colombia  1998                          3240\n",
       "5555            Spain  1992                           636\n",
       "3336  Kyrgyz Republic  2006                           533"
      ]
     },
     "execution_count": 5,
     "metadata": {},
     "output_type": "execute_result"
    }
   ],
   "source": [
    "rainfall_data.sample(5)"
   ]
  },
  {
   "cell_type": "code",
   "execution_count": 6,
   "id": "70c5a0f2",
   "metadata": {
    "execution": {
     "iopub.execute_input": "2023-05-27T14:58:59.700759Z",
     "iopub.status.busy": "2023-05-27T14:58:59.700331Z",
     "iopub.status.idle": "2023-05-27T14:58:59.716291Z",
     "shell.execute_reply": "2023-05-27T14:58:59.715093Z"
    },
    "papermill": {
     "duration": 0.046129,
     "end_time": "2023-05-27T14:58:59.718978",
     "exception": false,
     "start_time": "2023-05-27T14:58:59.672849",
     "status": "completed"
    },
    "tags": []
   },
   "outputs": [
    {
     "data": {
      "text/html": [
       "<div>\n",
       "<style scoped>\n",
       "    .dataframe tbody tr th:only-of-type {\n",
       "        vertical-align: middle;\n",
       "    }\n",
       "\n",
       "    .dataframe tbody tr th {\n",
       "        vertical-align: top;\n",
       "    }\n",
       "\n",
       "    .dataframe thead th {\n",
       "        text-align: right;\n",
       "    }\n",
       "</style>\n",
       "<table border=\"1\" class=\"dataframe\">\n",
       "  <thead>\n",
       "    <tr style=\"text-align: right;\">\n",
       "      <th></th>\n",
       "      <th>Domain</th>\n",
       "      <th>Area</th>\n",
       "      <th>Element</th>\n",
       "      <th>Item</th>\n",
       "      <th>Year</th>\n",
       "      <th>Unit</th>\n",
       "      <th>Value</th>\n",
       "    </tr>\n",
       "  </thead>\n",
       "  <tbody>\n",
       "    <tr>\n",
       "      <th>3914</th>\n",
       "      <td>Pesticides Use</td>\n",
       "      <td>Tonga</td>\n",
       "      <td>Use</td>\n",
       "      <td>Pesticides (total)</td>\n",
       "      <td>2014</td>\n",
       "      <td>tonnes of active ingredients</td>\n",
       "      <td>15.09</td>\n",
       "    </tr>\n",
       "    <tr>\n",
       "      <th>2724</th>\n",
       "      <td>Pesticides Use</td>\n",
       "      <td>Namibia</td>\n",
       "      <td>Use</td>\n",
       "      <td>Pesticides (total)</td>\n",
       "      <td>2013</td>\n",
       "      <td>tonnes of active ingredients</td>\n",
       "      <td>56.00</td>\n",
       "    </tr>\n",
       "    <tr>\n",
       "      <th>1957</th>\n",
       "      <td>Pesticides Use</td>\n",
       "      <td>Israel</td>\n",
       "      <td>Use</td>\n",
       "      <td>Pesticides (total)</td>\n",
       "      <td>1995</td>\n",
       "      <td>tonnes of active ingredients</td>\n",
       "      <td>2491.00</td>\n",
       "    </tr>\n",
       "    <tr>\n",
       "      <th>1044</th>\n",
       "      <td>Pesticides Use</td>\n",
       "      <td>Cook Islands</td>\n",
       "      <td>Use</td>\n",
       "      <td>Pesticides (total)</td>\n",
       "      <td>2014</td>\n",
       "      <td>tonnes of active ingredients</td>\n",
       "      <td>3.33</td>\n",
       "    </tr>\n",
       "    <tr>\n",
       "      <th>2210</th>\n",
       "      <td>Pesticides Use</td>\n",
       "      <td>Lao People's Democratic Republic</td>\n",
       "      <td>Use</td>\n",
       "      <td>Pesticides (total)</td>\n",
       "      <td>2009</td>\n",
       "      <td>tonnes of active ingredients</td>\n",
       "      <td>25.67</td>\n",
       "    </tr>\n",
       "  </tbody>\n",
       "</table>\n",
       "</div>"
      ],
      "text/plain": [
       "              Domain                              Area Element   \n",
       "3914  Pesticides Use                             Tonga     Use  \\\n",
       "2724  Pesticides Use                           Namibia     Use   \n",
       "1957  Pesticides Use                            Israel     Use   \n",
       "1044  Pesticides Use                      Cook Islands     Use   \n",
       "2210  Pesticides Use  Lao People's Democratic Republic     Use   \n",
       "\n",
       "                    Item  Year                          Unit    Value  \n",
       "3914  Pesticides (total)  2014  tonnes of active ingredients    15.09  \n",
       "2724  Pesticides (total)  2013  tonnes of active ingredients    56.00  \n",
       "1957  Pesticides (total)  1995  tonnes of active ingredients  2491.00  \n",
       "1044  Pesticides (total)  2014  tonnes of active ingredients     3.33  \n",
       "2210  Pesticides (total)  2009  tonnes of active ingredients    25.67  "
      ]
     },
     "execution_count": 6,
     "metadata": {},
     "output_type": "execute_result"
    }
   ],
   "source": [
    "pesticides_data.sample(5)"
   ]
  },
  {
   "cell_type": "code",
   "execution_count": 7,
   "id": "ab2b4a29",
   "metadata": {
    "execution": {
     "iopub.execute_input": "2023-05-27T14:58:59.776082Z",
     "iopub.status.busy": "2023-05-27T14:58:59.775079Z",
     "iopub.status.idle": "2023-05-27T14:58:59.906034Z",
     "shell.execute_reply": "2023-05-27T14:58:59.904895Z"
    },
    "papermill": {
     "duration": 0.163057,
     "end_time": "2023-05-27T14:58:59.908626",
     "exception": false,
     "start_time": "2023-05-27T14:58:59.745569",
     "status": "completed"
    },
    "tags": []
   },
   "outputs": [
    {
     "name": "stdout",
     "output_type": "stream",
     "text": [
      "<class 'pandas.core.frame.DataFrame'>\n",
      "RangeIndex: 56717 entries, 0 to 56716\n",
      "Data columns (total 12 columns):\n",
      " #   Column        Non-Null Count  Dtype \n",
      "---  ------        --------------  ----- \n",
      " 0   Domain Code   56717 non-null  object\n",
      " 1   Domain        56717 non-null  object\n",
      " 2   Area Code     56717 non-null  int64 \n",
      " 3   Area          56717 non-null  object\n",
      " 4   Element Code  56717 non-null  int64 \n",
      " 5   Element       56717 non-null  object\n",
      " 6   Item Code     56717 non-null  int64 \n",
      " 7   Item          56717 non-null  object\n",
      " 8   Year Code     56717 non-null  int64 \n",
      " 9   Year          56717 non-null  int64 \n",
      " 10  Unit          56717 non-null  object\n",
      " 11  Value         56717 non-null  int64 \n",
      "dtypes: int64(6), object(6)\n",
      "memory usage: 5.2+ MB\n"
     ]
    }
   ],
   "source": [
    "yield_data.info()"
   ]
  },
  {
   "cell_type": "code",
   "execution_count": 8,
   "id": "9f7eaf12",
   "metadata": {
    "execution": {
     "iopub.execute_input": "2023-05-27T14:58:59.964166Z",
     "iopub.status.busy": "2023-05-27T14:58:59.963258Z",
     "iopub.status.idle": "2023-05-27T14:59:00.080090Z",
     "shell.execute_reply": "2023-05-27T14:59:00.078852Z"
    },
    "papermill": {
     "duration": 0.14753,
     "end_time": "2023-05-27T14:59:00.082754",
     "exception": false,
     "start_time": "2023-05-27T14:58:59.935224",
     "status": "completed"
    },
    "tags": []
   },
   "outputs": [
    {
     "data": {
      "text/plain": [
       "Domain Code     0\n",
       "Domain          0\n",
       "Area Code       0\n",
       "Area            0\n",
       "Element Code    0\n",
       "Element         0\n",
       "Item Code       0\n",
       "Item            0\n",
       "Year Code       0\n",
       "Year            0\n",
       "Unit            0\n",
       "Value           0\n",
       "dtype: int64"
      ]
     },
     "execution_count": 8,
     "metadata": {},
     "output_type": "execute_result"
    }
   ],
   "source": [
    "yield_data.isnull().sum()"
   ]
  },
  {
   "cell_type": "code",
   "execution_count": 9,
   "id": "acf88125",
   "metadata": {
    "execution": {
     "iopub.execute_input": "2023-05-27T14:59:00.137766Z",
     "iopub.status.busy": "2023-05-27T14:59:00.137369Z",
     "iopub.status.idle": "2023-05-27T14:59:00.174918Z",
     "shell.execute_reply": "2023-05-27T14:59:00.173586Z"
    },
    "papermill": {
     "duration": 0.068476,
     "end_time": "2023-05-27T14:59:00.177651",
     "exception": false,
     "start_time": "2023-05-27T14:59:00.109175",
     "status": "completed"
    },
    "tags": []
   },
   "outputs": [
    {
     "name": "stdout",
     "output_type": "stream",
     "text": [
      "<class 'pandas.core.frame.DataFrame'>\n",
      "RangeIndex: 71311 entries, 0 to 71310\n",
      "Data columns (total 3 columns):\n",
      " #   Column    Non-Null Count  Dtype  \n",
      "---  ------    --------------  -----  \n",
      " 0   year      71311 non-null  int64  \n",
      " 1   country   71311 non-null  object \n",
      " 2   avg_temp  68764 non-null  float64\n",
      "dtypes: float64(1), int64(1), object(1)\n",
      "memory usage: 1.6+ MB\n"
     ]
    }
   ],
   "source": [
    "temp_data.info()"
   ]
  },
  {
   "cell_type": "code",
   "execution_count": 10,
   "id": "b5dd1816",
   "metadata": {
    "execution": {
     "iopub.execute_input": "2023-05-27T14:59:00.232999Z",
     "iopub.status.busy": "2023-05-27T14:59:00.232615Z",
     "iopub.status.idle": "2023-05-27T14:59:00.265712Z",
     "shell.execute_reply": "2023-05-27T14:59:00.264582Z"
    },
    "papermill": {
     "duration": 0.064231,
     "end_time": "2023-05-27T14:59:00.268548",
     "exception": false,
     "start_time": "2023-05-27T14:59:00.204317",
     "status": "completed"
    },
    "tags": []
   },
   "outputs": [
    {
     "data": {
      "text/plain": [
       "year           0\n",
       "country        0\n",
       "avg_temp    2547\n",
       "dtype: int64"
      ]
     },
     "execution_count": 10,
     "metadata": {},
     "output_type": "execute_result"
    }
   ],
   "source": [
    "temp_data.isnull().sum()"
   ]
  },
  {
   "cell_type": "code",
   "execution_count": 11,
   "id": "7469f2d1",
   "metadata": {
    "execution": {
     "iopub.execute_input": "2023-05-27T14:59:00.324753Z",
     "iopub.status.busy": "2023-05-27T14:59:00.323641Z",
     "iopub.status.idle": "2023-05-27T14:59:00.340259Z",
     "shell.execute_reply": "2023-05-27T14:59:00.338785Z"
    },
    "papermill": {
     "duration": 0.047596,
     "end_time": "2023-05-27T14:59:00.343064",
     "exception": false,
     "start_time": "2023-05-27T14:59:00.295468",
     "status": "completed"
    },
    "tags": []
   },
   "outputs": [
    {
     "name": "stdout",
     "output_type": "stream",
     "text": [
      "<class 'pandas.core.frame.DataFrame'>\n",
      "RangeIndex: 6727 entries, 0 to 6726\n",
      "Data columns (total 3 columns):\n",
      " #   Column                         Non-Null Count  Dtype \n",
      "---  ------                         --------------  ----- \n",
      " 0    Area                          6727 non-null   object\n",
      " 1   Year                           6727 non-null   int64 \n",
      " 2   average_rain_fall_mm_per_year  5953 non-null   object\n",
      "dtypes: int64(1), object(2)\n",
      "memory usage: 157.8+ KB\n"
     ]
    }
   ],
   "source": [
    "rainfall_data.info()"
   ]
  },
  {
   "cell_type": "code",
   "execution_count": 12,
   "id": "fc71ecad",
   "metadata": {
    "execution": {
     "iopub.execute_input": "2023-05-27T14:59:00.399297Z",
     "iopub.status.busy": "2023-05-27T14:59:00.398911Z",
     "iopub.status.idle": "2023-05-27T14:59:00.412702Z",
     "shell.execute_reply": "2023-05-27T14:59:00.411830Z"
    },
    "papermill": {
     "duration": 0.044754,
     "end_time": "2023-05-27T14:59:00.414916",
     "exception": false,
     "start_time": "2023-05-27T14:59:00.370162",
     "status": "completed"
    },
    "tags": []
   },
   "outputs": [
    {
     "data": {
      "text/plain": [
       " Area                              0\n",
       "Year                               0\n",
       "average_rain_fall_mm_per_year    774\n",
       "dtype: int64"
      ]
     },
     "execution_count": 12,
     "metadata": {},
     "output_type": "execute_result"
    }
   ],
   "source": [
    "rainfall_data.isnull().sum()"
   ]
  },
  {
   "cell_type": "code",
   "execution_count": 13,
   "id": "a2040cc0",
   "metadata": {
    "execution": {
     "iopub.execute_input": "2023-05-27T14:59:00.471560Z",
     "iopub.status.busy": "2023-05-27T14:59:00.471093Z",
     "iopub.status.idle": "2023-05-27T14:59:00.491430Z",
     "shell.execute_reply": "2023-05-27T14:59:00.490134Z"
    },
    "papermill": {
     "duration": 0.051652,
     "end_time": "2023-05-27T14:59:00.493937",
     "exception": false,
     "start_time": "2023-05-27T14:59:00.442285",
     "status": "completed"
    },
    "tags": []
   },
   "outputs": [
    {
     "name": "stdout",
     "output_type": "stream",
     "text": [
      "<class 'pandas.core.frame.DataFrame'>\n",
      "RangeIndex: 4349 entries, 0 to 4348\n",
      "Data columns (total 7 columns):\n",
      " #   Column   Non-Null Count  Dtype  \n",
      "---  ------   --------------  -----  \n",
      " 0   Domain   4349 non-null   object \n",
      " 1   Area     4349 non-null   object \n",
      " 2   Element  4349 non-null   object \n",
      " 3   Item     4349 non-null   object \n",
      " 4   Year     4349 non-null   int64  \n",
      " 5   Unit     4349 non-null   object \n",
      " 6   Value    4349 non-null   float64\n",
      "dtypes: float64(1), int64(1), object(5)\n",
      "memory usage: 238.0+ KB\n"
     ]
    }
   ],
   "source": [
    "pesticides_data.info()"
   ]
  },
  {
   "cell_type": "code",
   "execution_count": 14,
   "id": "936cc2e0",
   "metadata": {
    "execution": {
     "iopub.execute_input": "2023-05-27T14:59:00.550413Z",
     "iopub.status.busy": "2023-05-27T14:59:00.549948Z",
     "iopub.status.idle": "2023-05-27T14:59:00.566744Z",
     "shell.execute_reply": "2023-05-27T14:59:00.565543Z"
    },
    "papermill": {
     "duration": 0.047974,
     "end_time": "2023-05-27T14:59:00.569053",
     "exception": false,
     "start_time": "2023-05-27T14:59:00.521079",
     "status": "completed"
    },
    "tags": []
   },
   "outputs": [
    {
     "data": {
      "text/plain": [
       "Domain     0\n",
       "Area       0\n",
       "Element    0\n",
       "Item       0\n",
       "Year       0\n",
       "Unit       0\n",
       "Value      0\n",
       "dtype: int64"
      ]
     },
     "execution_count": 14,
     "metadata": {},
     "output_type": "execute_result"
    }
   ],
   "source": [
    "pesticides_data.isnull().sum()"
   ]
  },
  {
   "attachments": {},
   "cell_type": "markdown",
   "id": "461078ab",
   "metadata": {
    "papermill": {
     "duration": 0.027165,
     "end_time": "2023-05-27T14:59:00.623478",
     "exception": false,
     "start_time": "2023-05-27T14:59:00.596313",
     "status": "completed"
    },
    "tags": []
   },
   "source": [
    "Observation: \n",
    "1. pesticides data does not contain any null values.\n",
    "2. temp data contain null values at avg temp column.\n",
    "3. rainfall data contain null values at average rainfall mm per year column.\n",
    "4. yield data does not contain any null values.\n",
    "\n",
    "Conclusion:- \n",
    "1. We need to fill the values in rainfall data but it depends because we need more information about that.\n",
    "2. We need to fill the values in temp data but if depends because we need more information about that.\n",
    "3. There are two columns i.e Area and Year which is common in all of them this is primary key to merge all of the data which is present between them."
   ]
  },
  {
   "attachments": {},
   "cell_type": "markdown",
   "id": "1978630d",
   "metadata": {
    "papermill": {
     "duration": 0.027776,
     "end_time": "2023-05-27T14:59:00.678475",
     "exception": false,
     "start_time": "2023-05-27T14:59:00.650699",
     "status": "completed"
    },
    "tags": []
   },
   "source": [
    "### Year Column Analysis"
   ]
  },
  {
   "cell_type": "code",
   "execution_count": 15,
   "id": "34c289d8",
   "metadata": {
    "execution": {
     "iopub.execute_input": "2023-05-27T14:59:00.737172Z",
     "iopub.status.busy": "2023-05-27T14:59:00.736744Z",
     "iopub.status.idle": "2023-05-27T14:59:00.746383Z",
     "shell.execute_reply": "2023-05-27T14:59:00.745129Z"
    },
    "papermill": {
     "duration": 0.041538,
     "end_time": "2023-05-27T14:59:00.749329",
     "exception": false,
     "start_time": "2023-05-27T14:59:00.707791",
     "status": "completed"
    },
    "tags": []
   },
   "outputs": [
    {
     "data": {
      "text/plain": [
       "array([1961, 1962, 1963, 1964, 1965, 1966, 1967, 1968, 1969, 1970, 1971,\n",
       "       1972, 1973, 1974, 1975, 1976, 1977, 1978, 1979, 1980, 1981, 1982,\n",
       "       1983, 1984, 1985, 1986, 1987, 1988, 1989, 1990, 1991, 1992, 1993,\n",
       "       1994, 1995, 1996, 1997, 1998, 1999, 2000, 2001, 2002, 2003, 2004,\n",
       "       2005, 2006, 2007, 2008, 2009, 2010, 2011, 2012, 2013, 2014, 2015,\n",
       "       2016])"
      ]
     },
     "execution_count": 15,
     "metadata": {},
     "output_type": "execute_result"
    }
   ],
   "source": [
    "yield_year = yield_data['Year'].unique()\n",
    "yield_year.sort()\n",
    "yield_year"
   ]
  },
  {
   "cell_type": "code",
   "execution_count": 16,
   "id": "d7e4c9de",
   "metadata": {
    "execution": {
     "iopub.execute_input": "2023-05-27T14:59:00.808158Z",
     "iopub.status.busy": "2023-05-27T14:59:00.807394Z",
     "iopub.status.idle": "2023-05-27T14:59:00.817564Z",
     "shell.execute_reply": "2023-05-27T14:59:00.816320Z"
    },
    "papermill": {
     "duration": 0.042028,
     "end_time": "2023-05-27T14:59:00.820144",
     "exception": false,
     "start_time": "2023-05-27T14:59:00.778116",
     "status": "completed"
    },
    "tags": []
   },
   "outputs": [
    {
     "data": {
      "text/plain": [
       "array([1743, 1744, 1745, 1746, 1747, 1748, 1749, 1750, 1751, 1752, 1753,\n",
       "       1754, 1755, 1756, 1757, 1758, 1759, 1760, 1761, 1762, 1763, 1764,\n",
       "       1765, 1766, 1767, 1768, 1769, 1770, 1771, 1772, 1773, 1774, 1775,\n",
       "       1776, 1777, 1778, 1779, 1780, 1781, 1782, 1783, 1784, 1785, 1786,\n",
       "       1787, 1788, 1789, 1790, 1791, 1792, 1793, 1794, 1795, 1796, 1797,\n",
       "       1798, 1799, 1800, 1801, 1802, 1803, 1804, 1805, 1806, 1807, 1808,\n",
       "       1809, 1810, 1811, 1812, 1813, 1814, 1815, 1816, 1817, 1818, 1819,\n",
       "       1820, 1821, 1822, 1823, 1824, 1825, 1826, 1827, 1828, 1829, 1830,\n",
       "       1831, 1832, 1833, 1834, 1835, 1836, 1837, 1838, 1839, 1840, 1841,\n",
       "       1842, 1843, 1844, 1845, 1846, 1847, 1848, 1849, 1850, 1851, 1852,\n",
       "       1853, 1854, 1855, 1856, 1857, 1858, 1859, 1860, 1861, 1862, 1863,\n",
       "       1864, 1865, 1866, 1867, 1868, 1869, 1870, 1871, 1872, 1873, 1874,\n",
       "       1875, 1876, 1877, 1878, 1879, 1880, 1881, 1882, 1883, 1884, 1885,\n",
       "       1886, 1887, 1888, 1889, 1890, 1891, 1892, 1893, 1894, 1895, 1896,\n",
       "       1897, 1898, 1899, 1900, 1901, 1902, 1903, 1904, 1905, 1906, 1907,\n",
       "       1908, 1909, 1910, 1911, 1912, 1913, 1914, 1915, 1916, 1917, 1918,\n",
       "       1919, 1920, 1921, 1922, 1923, 1924, 1925, 1926, 1927, 1928, 1929,\n",
       "       1930, 1931, 1932, 1933, 1934, 1935, 1936, 1937, 1938, 1939, 1940,\n",
       "       1941, 1942, 1943, 1944, 1945, 1946, 1947, 1948, 1949, 1950, 1951,\n",
       "       1952, 1953, 1954, 1955, 1956, 1957, 1958, 1959, 1960, 1961, 1962,\n",
       "       1963, 1964, 1965, 1966, 1967, 1968, 1969, 1970, 1971, 1972, 1973,\n",
       "       1974, 1975, 1976, 1977, 1978, 1979, 1980, 1981, 1982, 1983, 1984,\n",
       "       1985, 1986, 1987, 1988, 1989, 1990, 1991, 1992, 1993, 1994, 1995,\n",
       "       1996, 1997, 1998, 1999, 2000, 2001, 2002, 2003, 2004, 2005, 2006,\n",
       "       2007, 2008, 2009, 2010, 2011, 2012, 2013])"
      ]
     },
     "execution_count": 16,
     "metadata": {},
     "output_type": "execute_result"
    }
   ],
   "source": [
    "temp_year = temp_data['year'].unique()\n",
    "temp_year.sort()\n",
    "temp_year"
   ]
  },
  {
   "cell_type": "code",
   "execution_count": 17,
   "id": "ebe51952",
   "metadata": {
    "execution": {
     "iopub.execute_input": "2023-05-27T14:59:00.880990Z",
     "iopub.status.busy": "2023-05-27T14:59:00.880604Z",
     "iopub.status.idle": "2023-05-27T14:59:00.888193Z",
     "shell.execute_reply": "2023-05-27T14:59:00.887071Z"
    },
    "papermill": {
     "duration": 0.039865,
     "end_time": "2023-05-27T14:59:00.890827",
     "exception": false,
     "start_time": "2023-05-27T14:59:00.850962",
     "status": "completed"
    },
    "tags": []
   },
   "outputs": [
    {
     "data": {
      "text/plain": [
       "array([1985, 1986, 1987, 1989, 1990, 1991, 1992, 1993, 1994, 1995, 1996,\n",
       "       1997, 1998, 1999, 2000, 2001, 2002, 2004, 2005, 2006, 2007, 2008,\n",
       "       2009, 2010, 2011, 2012, 2013, 2014, 2015, 2016, 2017])"
      ]
     },
     "execution_count": 17,
     "metadata": {},
     "output_type": "execute_result"
    }
   ],
   "source": [
    "rainfall_year = rainfall_data['Year'].unique()\n",
    "rainfall_year.sort()\n",
    "rainfall_year"
   ]
  },
  {
   "cell_type": "code",
   "execution_count": 18,
   "id": "6ef58daa",
   "metadata": {
    "execution": {
     "iopub.execute_input": "2023-05-27T14:59:00.949026Z",
     "iopub.status.busy": "2023-05-27T14:59:00.948620Z",
     "iopub.status.idle": "2023-05-27T14:59:00.956818Z",
     "shell.execute_reply": "2023-05-27T14:59:00.955626Z"
    },
    "papermill": {
     "duration": 0.040127,
     "end_time": "2023-05-27T14:59:00.959327",
     "exception": false,
     "start_time": "2023-05-27T14:59:00.919200",
     "status": "completed"
    },
    "tags": []
   },
   "outputs": [
    {
     "data": {
      "text/plain": [
       "array([1990, 1991, 1992, 1993, 1994, 1995, 1996, 1997, 1998, 1999, 2000,\n",
       "       2001, 2002, 2003, 2004, 2005, 2006, 2007, 2008, 2009, 2010, 2011,\n",
       "       2012, 2013, 2014, 2015, 2016])"
      ]
     },
     "execution_count": 18,
     "metadata": {},
     "output_type": "execute_result"
    }
   ],
   "source": [
    "pesticides_year = pesticides_data['Year'].unique()\n",
    "pesticides_year.sort()\n",
    "pesticides_year"
   ]
  },
  {
   "cell_type": "code",
   "execution_count": 19,
   "id": "6933daf0",
   "metadata": {
    "execution": {
     "iopub.execute_input": "2023-05-27T14:59:01.018586Z",
     "iopub.status.busy": "2023-05-27T14:59:01.017534Z",
     "iopub.status.idle": "2023-05-27T14:59:01.026861Z",
     "shell.execute_reply": "2023-05-27T14:59:01.025684Z"
    },
    "papermill": {
     "duration": 0.04201,
     "end_time": "2023-05-27T14:59:01.029449",
     "exception": false,
     "start_time": "2023-05-27T14:59:00.987439",
     "status": "completed"
    },
    "tags": []
   },
   "outputs": [
    {
     "data": {
      "text/plain": [
       "(1990, 2013)"
      ]
     },
     "execution_count": 19,
     "metadata": {},
     "output_type": "execute_result"
    }
   ],
   "source": [
    "min_year = max(max(min(pesticides_year), min(yield_year)), max(min(rainfall_year), min(temp_year)))\n",
    "max_year = min(min(max(pesticides_year), max(yield_year)), min(max(rainfall_year), max(temp_year)))\n",
    "min_year, max_year"
   ]
  },
  {
   "attachments": {},
   "cell_type": "markdown",
   "id": "b5973106",
   "metadata": {
    "papermill": {
     "duration": 0.02817,
     "end_time": "2023-05-27T14:59:01.085804",
     "exception": false,
     "start_time": "2023-05-27T14:59:01.057634",
     "status": "completed"
    },
    "tags": []
   },
   "source": [
    "Observation:\n",
    "1. yield data have been collected from 1961 to 2016.\n",
    "2. pesticides data have been collected from 1990 to 2016.\n",
    "3. rainfall data have been collected from 1985 to 2017\n",
    "4. temp data have been collected from 1743 to 2013\n",
    "\n",
    "Conclusion:\n",
    "We have 24 years of data, ranging from 1990 to 2013, which is present/common in all of them."
   ]
  },
  {
   "attachments": {},
   "cell_type": "markdown",
   "id": "7541db40",
   "metadata": {
    "papermill": {
     "duration": 0.027867,
     "end_time": "2023-05-27T14:59:01.141986",
     "exception": false,
     "start_time": "2023-05-27T14:59:01.114119",
     "status": "completed"
    },
    "tags": []
   },
   "source": [
    "### Area Column Analysis"
   ]
  },
  {
   "cell_type": "code",
   "execution_count": 20,
   "id": "b10c5f05",
   "metadata": {
    "execution": {
     "iopub.execute_input": "2023-05-27T14:59:01.200585Z",
     "iopub.status.busy": "2023-05-27T14:59:01.199881Z",
     "iopub.status.idle": "2023-05-27T14:59:01.214460Z",
     "shell.execute_reply": "2023-05-27T14:59:01.213265Z"
    },
    "papermill": {
     "duration": 0.04688,
     "end_time": "2023-05-27T14:59:01.217165",
     "exception": false,
     "start_time": "2023-05-27T14:59:01.170285",
     "status": "completed"
    },
    "tags": []
   },
   "outputs": [
    {
     "data": {
      "text/plain": [
       "array(['Afghanistan', 'Albania', 'Algeria', 'American Samoa', 'Angola',\n",
       "       'Antigua and Barbuda', 'Argentina', 'Armenia', 'Australia',\n",
       "       'Austria', 'Azerbaijan', 'Bahamas', 'Bahrain', 'Bangladesh',\n",
       "       'Barbados', 'Belarus', 'Belgium', 'Belgium-Luxembourg', 'Belize',\n",
       "       'Benin', 'Bermuda', 'Bhutan', 'Bolivia (Plurinational State of)',\n",
       "       'Bosnia and Herzegovina', 'Botswana', 'Brazil',\n",
       "       'Brunei Darussalam', 'Bulgaria', 'Burkina Faso', 'Burundi',\n",
       "       'Cabo Verde', 'Cambodia', 'Cameroon', 'Canada', 'Cayman Islands',\n",
       "       'Central African Republic', 'Chad', 'Chile', 'China',\n",
       "       'China, Hong Kong SAR', 'China, Taiwan Province of',\n",
       "       'China, mainland', 'Colombia', 'Comoros', 'Congo', 'Cook Islands',\n",
       "       'Costa Rica', 'Croatia', 'Cuba', 'Cyprus', 'Czechia',\n",
       "       'Czechoslovakia', \"Côte d'Ivoire\",\n",
       "       \"Democratic People's Republic of Korea\",\n",
       "       'Democratic Republic of the Congo', 'Denmark', 'Djibouti',\n",
       "       'Dominica', 'Dominican Republic', 'Ecuador', 'Egypt',\n",
       "       'El Salvador', 'Equatorial Guinea', 'Eritrea', 'Estonia',\n",
       "       'Eswatini', 'Ethiopia', 'Ethiopia PDR', 'Faroe Islands', 'Fiji',\n",
       "       'Finland', 'France', 'French Guiana', 'French Polynesia', 'Gabon',\n",
       "       'Gambia', 'Georgia', 'Germany', 'Ghana', 'Greece', 'Grenada',\n",
       "       'Guadeloupe', 'Guam', 'Guatemala', 'Guinea', 'Guinea-Bissau',\n",
       "       'Guyana', 'Haiti', 'Honduras', 'Hungary', 'Iceland', 'India',\n",
       "       'Indonesia', 'Iran (Islamic Republic of)', 'Iraq', 'Ireland',\n",
       "       'Israel', 'Italy', 'Jamaica', 'Japan', 'Jordan', 'Kazakhstan',\n",
       "       'Kenya', 'Kuwait', 'Kyrgyzstan',\n",
       "       \"Lao People's Democratic Republic\", 'Latvia', 'Lebanon', 'Lesotho',\n",
       "       'Liberia', 'Libya', 'Lithuania', 'Luxembourg', 'Madagascar',\n",
       "       'Malawi', 'Malaysia', 'Maldives', 'Mali', 'Malta', 'Martinique',\n",
       "       'Mauritania', 'Mauritius', 'Mexico',\n",
       "       'Micronesia (Federated States of)', 'Mongolia', 'Montenegro',\n",
       "       'Montserrat', 'Morocco', 'Mozambique', 'Myanmar', 'Namibia',\n",
       "       'Nepal', 'Netherlands', 'New Caledonia', 'New Zealand',\n",
       "       'Nicaragua', 'Niger', 'Nigeria', 'Niue', 'Norway',\n",
       "       'Occupied Palestinian Territory', 'Oman',\n",
       "       'Pacific Islands Trust Territory', 'Pakistan', 'Panama',\n",
       "       'Papua New Guinea', 'Paraguay', 'Peru', 'Philippines', 'Poland',\n",
       "       'Portugal', 'Puerto Rico', 'Qatar', 'Republic of Korea',\n",
       "       'Republic of Moldova', 'Romania', 'Russian Federation', 'Rwanda',\n",
       "       'Réunion', 'Saint Kitts and Nevis', 'Saint Lucia',\n",
       "       'Saint Vincent and the Grenadines', 'Samoa',\n",
       "       'Sao Tome and Principe', 'Saudi Arabia', 'Senegal', 'Serbia',\n",
       "       'Serbia and Montenegro', 'Seychelles', 'Sierra Leone', 'Singapore',\n",
       "       'Slovakia', 'Slovenia', 'Solomon Islands', 'Somalia',\n",
       "       'South Africa', 'South Sudan', 'Spain', 'Sri Lanka', 'Sudan',\n",
       "       'Sudan (former)', 'Suriname', 'Sweden', 'Switzerland',\n",
       "       'Syrian Arab Republic', 'Tajikistan', 'Thailand',\n",
       "       'The former Yugoslav Republic of Macedonia', 'Timor-Leste', 'Togo',\n",
       "       'Tonga', 'Trinidad and Tobago', 'Tunisia', 'Turkey',\n",
       "       'Turkmenistan', 'USSR', 'Uganda', 'Ukraine',\n",
       "       'United Arab Emirates', 'United Kingdom',\n",
       "       'United Republic of Tanzania', 'United States of America',\n",
       "       'Uruguay', 'Uzbekistan', 'Vanuatu',\n",
       "       'Venezuela (Bolivarian Republic of)', 'Viet Nam',\n",
       "       'Wallis and Futuna Islands', 'Yemen', 'Yugoslav SFR', 'Zambia',\n",
       "       'Zimbabwe'], dtype=object)"
      ]
     },
     "execution_count": 20,
     "metadata": {},
     "output_type": "execute_result"
    }
   ],
   "source": [
    "yield_area = yield_data['Area'].unique()\n",
    "yield_area.sort()\n",
    "yield_area"
   ]
  },
  {
   "cell_type": "code",
   "execution_count": 21,
   "id": "0f01e84c",
   "metadata": {
    "execution": {
     "iopub.execute_input": "2023-05-27T14:59:01.276454Z",
     "iopub.status.busy": "2023-05-27T14:59:01.276017Z",
     "iopub.status.idle": "2023-05-27T14:59:01.290480Z",
     "shell.execute_reply": "2023-05-27T14:59:01.289131Z"
    },
    "papermill": {
     "duration": 0.046987,
     "end_time": "2023-05-27T14:59:01.292969",
     "exception": false,
     "start_time": "2023-05-27T14:59:01.245982",
     "status": "completed"
    },
    "tags": []
   },
   "outputs": [
    {
     "data": {
      "text/plain": [
       "array(['Afghanistan', 'Albania', 'Algeria', 'Angola', 'Argentina',\n",
       "       'Armenia', 'Australia', 'Austria', 'Azerbaijan', 'Bahamas',\n",
       "       'Bahrain', 'Bangladesh', 'Belarus', 'Belgium', 'Bolivia',\n",
       "       'Bosnia And Herzegovina', 'Botswana', 'Brazil', 'Bulgaria',\n",
       "       'Burkina Faso', 'Burundi', 'Cameroon', 'Canada',\n",
       "       'Central African Republic', 'Chile', 'China', 'Colombia', 'Congo',\n",
       "       'Congo (Democratic Republic Of The)', 'Croatia', 'Czech Republic',\n",
       "       \"Côte D'Ivoire\", 'Denmark', 'Dominican Republic', 'Ecuador',\n",
       "       'Egypt', 'El Salvador', 'Equatorial Guinea', 'Eritrea', 'Estonia',\n",
       "       'Finland', 'France', 'Gabon', 'Georgia', 'Germany', 'Ghana',\n",
       "       'Greece', 'Guatemala', 'Guinea', 'Guinea Bissau', 'Guyana',\n",
       "       'Haiti', 'Honduras', 'Hong Kong', 'Hungary', 'India', 'Indonesia',\n",
       "       'Iran', 'Iraq', 'Ireland', 'Italy', 'Jamaica', 'Japan',\n",
       "       'Kazakhstan', 'Kenya', 'Laos', 'Latvia', 'Lebanon', 'Lesotho',\n",
       "       'Liberia', 'Libya', 'Lithuania', 'Macedonia', 'Madagascar',\n",
       "       'Malawi', 'Malaysia', 'Mali', 'Mauritania', 'Mauritius', 'Mexico',\n",
       "       'Moldova', 'Mongolia', 'Montenegro', 'Morocco', 'Mozambique',\n",
       "       'Namibia', 'Nepal', 'Netherlands', 'New Zealand', 'Nicaragua',\n",
       "       'Niger', 'Nigeria', 'Norway', 'Pakistan', 'Papua New Guinea',\n",
       "       'Peru', 'Philippines', 'Poland', 'Portugal', 'Qatar', 'Romania',\n",
       "       'Russia', 'Rwanda', 'Saudi Arabia', 'Senegal', 'Serbia',\n",
       "       'Sierra Leone', 'Singapore', 'Slovakia', 'Slovenia', 'Somalia',\n",
       "       'South Africa', 'South Korea', 'Spain', 'Sri Lanka', 'Sudan',\n",
       "       'Suriname', 'Sweden', 'Switzerland', 'Syria', 'Taiwan',\n",
       "       'Tajikistan', 'Tanzania', 'Thailand', 'Tunisia', 'Turkey',\n",
       "       'Uganda', 'Ukraine', 'United Arab Emirates', 'United Kingdom',\n",
       "       'United States', 'Uruguay', 'Uzbekistan', 'Venezuela', 'Vietnam',\n",
       "       'Zambia', 'Zimbabwe'], dtype=object)"
      ]
     },
     "execution_count": 21,
     "metadata": {},
     "output_type": "execute_result"
    }
   ],
   "source": [
    "temp_area = temp_data['country'].unique()\n",
    "temp_area.sort()\n",
    "temp_area"
   ]
  },
  {
   "cell_type": "code",
   "execution_count": 22,
   "id": "e436bc3e",
   "metadata": {
    "execution": {
     "iopub.execute_input": "2023-05-27T14:59:01.353697Z",
     "iopub.status.busy": "2023-05-27T14:59:01.353264Z",
     "iopub.status.idle": "2023-05-27T14:59:01.362329Z",
     "shell.execute_reply": "2023-05-27T14:59:01.361153Z"
    },
    "papermill": {
     "duration": 0.042414,
     "end_time": "2023-05-27T14:59:01.364972",
     "exception": false,
     "start_time": "2023-05-27T14:59:01.322558",
     "status": "completed"
    },
    "tags": []
   },
   "outputs": [
    {
     "data": {
      "text/plain": [
       "array(['Afghanistan', 'Albania', 'Algeria', 'American Samoa', 'Andorra',\n",
       "       'Angola', 'Antigua and Barbuda', 'Argentina', 'Armenia', 'Aruba',\n",
       "       'Australia', 'Austria', 'Azerbaijan', 'Bahamas', 'Bahrain',\n",
       "       'Bangladesh', 'Barbados', 'Belarus', 'Belgium', 'Belize', 'Benin',\n",
       "       'Bermuda', 'Bhutan', 'Bolivia', 'Bosnia and Herzegovina',\n",
       "       'Botswana', 'Brazil', 'British Virgin Islands',\n",
       "       'Brunei Darussalam', 'Bulgaria', 'Burkina Faso', 'Burundi',\n",
       "       'Cabo Verde', 'Cambodia', 'Cameroon', 'Canada', 'Cayman Islands',\n",
       "       'Central African Republic', 'Chad', 'Channel Islands', 'Chile',\n",
       "       'China', 'Colombia', 'Comoros', 'Congo, Dem. Rep.', 'Congo, Rep.',\n",
       "       'Costa Rica', \"Cote d'Ivoire\", 'Croatia', 'Cuba', 'Curacao',\n",
       "       'Cyprus', 'Czech Republic', 'Denmark', 'Djibouti', 'Dominica',\n",
       "       'Dominican Republic', 'Ecuador', 'Egypt', 'El Salvador',\n",
       "       'Equatorial Guinea', 'Eritrea', 'Estonia', 'Eswatini', 'Ethiopia',\n",
       "       'Faroe Islands', 'Fiji', 'Finland', 'France', 'French Polynesia',\n",
       "       'Gabon', 'Gambia', 'Georgia', 'Germany', 'Ghana', 'Gibraltar',\n",
       "       'Greece', 'Greenland', 'Grenada', 'Guam', 'Guatemala', 'Guinea',\n",
       "       'Guinea-Bissau', 'Guyana', 'Haiti', 'Honduras',\n",
       "       'Hong Kong SAR, China', 'Hungary', 'Iceland', 'India', 'Indonesia',\n",
       "       'Iran', 'Iraq', 'Ireland', 'Isle of Man', 'Israel', 'Italy',\n",
       "       'Jamaica', 'Japan', 'Jordan', 'Kazakhstan', 'Kenya', 'Kiribati',\n",
       "       'Kosovo', 'Kuwait', 'Kyrgyz Republic', 'Lao PDR', 'Latvia',\n",
       "       'Lebanon', 'Lesotho', 'Liberia', 'Libya', 'Liechtenstein',\n",
       "       'Lithuania', 'Luxembourg', 'Macao SAR, China', 'Macedonia',\n",
       "       'Madagascar', 'Malawi', 'Malaysia', 'Maldives', 'Mali', 'Malta',\n",
       "       'Marshall Islands', 'Mauritania', 'Mauritius', 'Mexico',\n",
       "       'Micronesia', 'Moldova', 'Monaco', 'Mongolia', 'Montenegro',\n",
       "       'Morocco', 'Mozambique', 'Myanmar', 'Namibia', 'Nauru', 'Nepal',\n",
       "       'Netherlands', 'New Caledonia', 'New Zealand', 'Nicaragua',\n",
       "       'Niger', 'Nigeria', 'North Korea', 'Northern Mariana Islands',\n",
       "       'Norway', 'Oman', 'Pakistan', 'Palau', 'Panama',\n",
       "       'Papua New Guinea', 'Paraguay', 'Peru', 'Philippines', 'Poland',\n",
       "       'Portugal', 'Puerto Rico', 'Qatar', 'Romania', 'Russia', 'Rwanda',\n",
       "       'Samoa', 'San Marino', 'Sao Tome and Principe', 'Saudi Arabia',\n",
       "       'Senegal', 'Serbia', 'Seychelles', 'Sierra Leone', 'Singapore',\n",
       "       'Sint Maarten (Dutch part)', 'Slovak Republic', 'Slovenia',\n",
       "       'Solomon Islands', 'Somalia', 'South Africa', 'South Korea ',\n",
       "       'South Sudan', 'Spain', 'Sri Lanka', 'St. Kitts and Nevis',\n",
       "       'St. Lucia', 'St. Martin (French part)',\n",
       "       'St. Vincent and the Grenadines', 'Sudan', 'Suriname', 'Sweden',\n",
       "       'Switzerland', 'Syria', 'Tajikistan', 'Tanzania', 'Thailand',\n",
       "       'Timor-Leste', 'Togo', 'Tonga', 'Trinidad and Tobago', 'Tunisia',\n",
       "       'Turkey', 'Turkmenistan', 'Turks and Caicos Islands', 'Tuvalu',\n",
       "       'Uganda', 'Ukraine', 'United Arab Emirates', 'United Kingdom',\n",
       "       'United States', 'Uruguay', 'Uzbekistan', 'Vanuatu',\n",
       "       'Venezuela, RB', 'Vietnam', 'Virgin Islands (U.S.)',\n",
       "       'West Bank and Gaza', 'Yemen', 'Zambia', 'Zimbabwe'], dtype=object)"
      ]
     },
     "execution_count": 22,
     "metadata": {},
     "output_type": "execute_result"
    }
   ],
   "source": [
    "rainfall_area = rainfall_data[' Area'].unique()\n",
    "rainfall_area.sort()\n",
    "rainfall_area"
   ]
  },
  {
   "cell_type": "code",
   "execution_count": 23,
   "id": "0c3f525b",
   "metadata": {
    "execution": {
     "iopub.execute_input": "2023-05-27T14:59:01.425745Z",
     "iopub.status.busy": "2023-05-27T14:59:01.425326Z",
     "iopub.status.idle": "2023-05-27T14:59:01.434177Z",
     "shell.execute_reply": "2023-05-27T14:59:01.433273Z"
    },
    "papermill": {
     "duration": 0.041988,
     "end_time": "2023-05-27T14:59:01.436366",
     "exception": false,
     "start_time": "2023-05-27T14:59:01.394378",
     "status": "completed"
    },
    "tags": []
   },
   "outputs": [
    {
     "data": {
      "text/plain": [
       "array(['Albania', 'Algeria', 'Angola', 'Antigua and Barbuda', 'Argentina',\n",
       "       'Armenia', 'Australia', 'Austria', 'Azerbaijan', 'Bahamas',\n",
       "       'Bahrain', 'Bangladesh', 'Barbados', 'Belarus', 'Belgium',\n",
       "       'Belgium-Luxembourg', 'Belize', 'Bermuda', 'Bhutan',\n",
       "       'Bolivia (Plurinational State of)', 'Botswana', 'Brazil',\n",
       "       'Brunei Darussalam', 'Bulgaria', 'Burkina Faso', 'Burundi',\n",
       "       'Cabo Verde', 'Cameroon', 'Canada', 'Central African Republic',\n",
       "       'Chad', 'Chile', 'China, Hong Kong SAR', 'China, Macao SAR',\n",
       "       'China, Taiwan Province of', 'China, mainland', 'Colombia',\n",
       "       'Comoros', 'Congo', 'Cook Islands', 'Costa Rica', 'Croatia',\n",
       "       'Cyprus', 'Czechia', \"Côte d'Ivoire\", 'Denmark',\n",
       "       'Dominican Republic', 'Ecuador', 'Egypt', 'El Salvador', 'Eritrea',\n",
       "       'Estonia', 'Ethiopia', 'Fiji', 'Finland', 'France',\n",
       "       'French Polynesia', 'Gambia', 'Germany', 'Ghana', 'Greece',\n",
       "       'Guatemala', 'Guinea', 'Guinea-Bissau', 'Guyana', 'Haiti',\n",
       "       'Honduras', 'Hungary', 'Iceland', 'India', 'Indonesia',\n",
       "       'Iran (Islamic Republic of)', 'Iraq', 'Ireland', 'Israel', 'Italy',\n",
       "       'Jamaica', 'Japan', 'Jordan', 'Kazakhstan', 'Kenya', 'Kuwait',\n",
       "       'Kyrgyzstan', \"Lao People's Democratic Republic\", 'Latvia',\n",
       "       'Lebanon', 'Lesotho', 'Libya', 'Lithuania', 'Luxembourg',\n",
       "       'Madagascar', 'Malawi', 'Malaysia', 'Maldives', 'Mali', 'Malta',\n",
       "       'Mauritania', 'Mauritius', 'Mexico', 'Montenegro', 'Morocco',\n",
       "       'Mozambique', 'Myanmar', 'Namibia', 'Nepal', 'Netherlands',\n",
       "       'New Caledonia', 'New Zealand', 'Nicaragua', 'Niger', 'Norway',\n",
       "       'Occupied Palestinian Territory', 'Oman', 'Pakistan', 'Panama',\n",
       "       'Papua New Guinea', 'Paraguay', 'Peru', 'Poland', 'Portugal',\n",
       "       'Qatar', 'Republic of Korea', 'Republic of Moldova', 'Romania',\n",
       "       'Russian Federation', 'Rwanda', 'Saint Kitts and Nevis',\n",
       "       'Saint Lucia', 'Samoa', 'Saudi Arabia', 'Senegal',\n",
       "       'Serbia and Montenegro', 'Seychelles', 'Slovakia', 'Slovenia',\n",
       "       'South Africa', 'Spain', 'Sri Lanka', 'Sudan', 'Sudan (former)',\n",
       "       'Suriname', 'Sweden', 'Switzerland', 'Syrian Arab Republic',\n",
       "       'Tajikistan', 'Thailand',\n",
       "       'The former Yugoslav Republic of Macedonia', 'Timor-Leste', 'Togo',\n",
       "       'Tonga', 'Trinidad and Tobago', 'Tunisia', 'Turkey',\n",
       "       'Turkmenistan', 'USSR', 'Uganda', 'Ukraine', 'United Kingdom',\n",
       "       'United Republic of Tanzania', 'United States of America',\n",
       "       'Uruguay', 'Vanuatu', 'Venezuela (Bolivarian Republic of)',\n",
       "       'Viet Nam', 'Yemen', 'Yugoslav SFR', 'Zambia', 'Zimbabwe'],\n",
       "      dtype=object)"
      ]
     },
     "execution_count": 23,
     "metadata": {},
     "output_type": "execute_result"
    }
   ],
   "source": [
    "pesticides_area = pesticides_data['Area'].unique()\n",
    "pesticides_area.sort()\n",
    "pesticides_area"
   ]
  },
  {
   "cell_type": "code",
   "execution_count": 24,
   "id": "1e8cfa48",
   "metadata": {
    "execution": {
     "iopub.execute_input": "2023-05-27T14:59:01.496669Z",
     "iopub.status.busy": "2023-05-27T14:59:01.496238Z",
     "iopub.status.idle": "2023-05-27T14:59:01.510983Z",
     "shell.execute_reply": "2023-05-27T14:59:01.509708Z"
    },
    "papermill": {
     "duration": 0.048416,
     "end_time": "2023-05-27T14:59:01.513870",
     "exception": false,
     "start_time": "2023-05-27T14:59:01.465454",
     "status": "completed"
    },
    "tags": []
   },
   "outputs": [],
   "source": [
    "common_area = []\n",
    "uncommon_area = []\n",
    "for i in yield_area:\n",
    "    if(i in rainfall_area and i in temp_area and i in pesticides_area):\n",
    "        common_area.append(i)\n",
    "    else:\n",
    "        uncommon_area.append(i)"
   ]
  },
  {
   "cell_type": "code",
   "execution_count": 25,
   "id": "83365b27",
   "metadata": {
    "execution": {
     "iopub.execute_input": "2023-05-27T14:59:01.575266Z",
     "iopub.status.busy": "2023-05-27T14:59:01.574797Z",
     "iopub.status.idle": "2023-05-27T14:59:01.824532Z",
     "shell.execute_reply": "2023-05-27T14:59:01.823308Z"
    },
    "papermill": {
     "duration": 0.283365,
     "end_time": "2023-05-27T14:59:01.827424",
     "exception": false,
     "start_time": "2023-05-27T14:59:01.544059",
     "status": "completed"
    },
    "tags": []
   },
   "outputs": [
    {
     "data": {
      "image/png": "[encoded data removed]",
      "text/plain": [
       "<Figure size 640x480 with 1 Axes>"
      ]
     },
     "metadata": {},
     "output_type": "display_data"
    }
   ],
   "source": [
    "sns.barplot(x=['common_area', 'uncommon_area'], y=[len(common_area), len(uncommon_area)])\n",
    "plt.title('Common Area vs Uncommon Area ')\n",
    "plt.xlabel('Area')\n",
    "plt.ylabel('Freqency')\n",
    "plt.show()"
   ]
  },
  {
   "cell_type": "code",
   "execution_count": 26,
   "id": "f768fb75",
   "metadata": {
    "execution": {
     "iopub.execute_input": "2023-05-27T14:59:01.891288Z",
     "iopub.status.busy": "2023-05-27T14:59:01.890871Z",
     "iopub.status.idle": "2023-05-27T14:59:01.978948Z",
     "shell.execute_reply": "2023-05-27T14:59:01.977694Z"
    },
    "papermill": {
     "duration": 0.122361,
     "end_time": "2023-05-27T14:59:01.981913",
     "exception": false,
     "start_time": "2023-05-27T14:59:01.859552",
     "status": "completed"
    },
    "tags": []
   },
   "outputs": [
    {
     "data": {
      "text/plain": [
       "(29965, 12)"
      ]
     },
     "execution_count": 26,
     "metadata": {},
     "output_type": "execute_result"
    }
   ],
   "source": [
    "yield_data[yield_data['Area'].apply(lambda x: True if x in common_area else False )].shape"
   ]
  },
  {
   "attachments": {},
   "cell_type": "markdown",
   "id": "a20ff5e3",
   "metadata": {
    "papermill": {
     "duration": 0.030423,
     "end_time": "2023-05-27T14:59:02.042367",
     "exception": false,
     "start_time": "2023-05-27T14:59:02.011944",
     "status": "completed"
    },
    "tags": []
   },
   "source": [
    "Observation: \n",
    "1. About 50% of yield_data belong to common_area category.\n",
    "2. Upon carefully observing I found out that yield_area contain country names which isn't used today so we need to carefully find our each uncommon area other names and rename all the areas to new area in order to merge our data.\n",
    "3. There may be some missing area which is unaccounted in any one of the following data we will just ignore that area."
   ]
  },
  {
   "attachments": {},
   "cell_type": "markdown",
   "id": "c43e24dc",
   "metadata": {
    "papermill": {
     "duration": 0.02998,
     "end_time": "2023-05-27T14:59:02.103245",
     "exception": false,
     "start_time": "2023-05-27T14:59:02.073265",
     "status": "completed"
    },
    "tags": []
   },
   "source": [
    "Let's work on only those 50% of Dataset and Proceed with further as finding various names of the country and manually replacing every country name is hastle. So I'm skipping it."
   ]
  },
  {
   "attachments": {},
   "cell_type": "markdown",
   "id": "12c88273",
   "metadata": {
    "papermill": {
     "duration": 0.029721,
     "end_time": "2023-05-27T14:59:02.162862",
     "exception": false,
     "start_time": "2023-05-27T14:59:02.133141",
     "status": "completed"
    },
    "tags": []
   },
   "source": [
    "### Analysis of Yield Dataset"
   ]
  },
  {
   "attachments": {},
   "cell_type": "markdown",
   "id": "d8cdf162",
   "metadata": {
    "papermill": {
     "duration": 0.029893,
     "end_time": "2023-05-27T14:59:02.223133",
     "exception": false,
     "start_time": "2023-05-27T14:59:02.193240",
     "status": "completed"
    },
    "tags": []
   },
   "source": [
    "#### Analysing Domain Code and Domain "
   ]
  },
  {
   "cell_type": "code",
   "execution_count": 27,
   "id": "739ae36d",
   "metadata": {
    "execution": {
     "iopub.execute_input": "2023-05-27T14:59:02.286441Z",
     "iopub.status.busy": "2023-05-27T14:59:02.285744Z",
     "iopub.status.idle": "2023-05-27T14:59:02.296662Z",
     "shell.execute_reply": "2023-05-27T14:59:02.295783Z"
    },
    "papermill": {
     "duration": 0.044536,
     "end_time": "2023-05-27T14:59:02.298999",
     "exception": false,
     "start_time": "2023-05-27T14:59:02.254463",
     "status": "completed"
    },
    "tags": []
   },
   "outputs": [
    {
     "data": {
      "text/plain": [
       "array(['Crops'], dtype=object)"
      ]
     },
     "execution_count": 27,
     "metadata": {},
     "output_type": "execute_result"
    }
   ],
   "source": [
    "yield_data['Domain'].unique()"
   ]
  },
  {
   "cell_type": "code",
   "execution_count": 28,
   "id": "5cf71417",
   "metadata": {
    "execution": {
     "iopub.execute_input": "2023-05-27T14:59:02.361690Z",
     "iopub.status.busy": "2023-05-27T14:59:02.361235Z",
     "iopub.status.idle": "2023-05-27T14:59:02.372783Z",
     "shell.execute_reply": "2023-05-27T14:59:02.371611Z"
    },
    "papermill": {
     "duration": 0.046166,
     "end_time": "2023-05-27T14:59:02.375119",
     "exception": false,
     "start_time": "2023-05-27T14:59:02.328953",
     "status": "completed"
    },
    "tags": []
   },
   "outputs": [
    {
     "data": {
      "text/plain": [
       "array(['QC'], dtype=object)"
      ]
     },
     "execution_count": 28,
     "metadata": {},
     "output_type": "execute_result"
    }
   ],
   "source": [
    "yield_data['Domain Code'].unique()"
   ]
  },
  {
   "attachments": {},
   "cell_type": "markdown",
   "id": "df0b7833",
   "metadata": {
    "papermill": {
     "duration": 0.029761,
     "end_time": "2023-05-27T14:59:02.434928",
     "exception": false,
     "start_time": "2023-05-27T14:59:02.405167",
     "status": "completed"
    },
    "tags": []
   },
   "source": [
    "Observation: \n",
    "1. Domain and Domain Code represent the same thing but Domain Code is the short abservation of Domain.\n",
    "2. Both Domain and Domain Code contains only single unique values only.\n",
    "3. As Both Domain and Domain does not provide any valuable information which can help the model. Even if we include those column in our data they will best act as bias(model eqn) in some of the model such as linear regression and losgistic Regression.\n",
    "\n",
    "Conclusion: We can leave the column as it is or remove it. I choose to remove those columns."
   ]
  },
  {
   "cell_type": "code",
   "execution_count": 29,
   "id": "6d3e503b",
   "metadata": {
    "execution": {
     "iopub.execute_input": "2023-05-27T14:59:02.497248Z",
     "iopub.status.busy": "2023-05-27T14:59:02.496527Z",
     "iopub.status.idle": "2023-05-27T14:59:02.506363Z",
     "shell.execute_reply": "2023-05-27T14:59:02.505403Z"
    },
    "papermill": {
     "duration": 0.043954,
     "end_time": "2023-05-27T14:59:02.508888",
     "exception": false,
     "start_time": "2023-05-27T14:59:02.464934",
     "status": "completed"
    },
    "tags": []
   },
   "outputs": [],
   "source": [
    "yield_data = yield_data.drop(columns=['Domain', 'Domain Code'])"
   ]
  },
  {
   "attachments": {},
   "cell_type": "markdown",
   "id": "429b3a4a",
   "metadata": {
    "papermill": {
     "duration": 0.029701,
     "end_time": "2023-05-27T14:59:02.568567",
     "exception": false,
     "start_time": "2023-05-27T14:59:02.538866",
     "status": "completed"
    },
    "tags": []
   },
   "source": [
    "#### Analysing Area and Area Code columns"
   ]
  },
  {
   "attachments": {},
   "cell_type": "markdown",
   "id": "6173d47e",
   "metadata": {
    "papermill": {
     "duration": 0.029703,
     "end_time": "2023-05-27T14:59:02.628519",
     "exception": false,
     "start_time": "2023-05-27T14:59:02.598816",
     "status": "completed"
    },
    "tags": []
   },
   "source": [
    "As It is given that Area Code and Area represent the same thing so we would keep one of the two. If we don't remove, It will create a bias problem."
   ]
  },
  {
   "cell_type": "code",
   "execution_count": 30,
   "id": "e3e04a7d",
   "metadata": {
    "execution": {
     "iopub.execute_input": "2023-05-27T14:59:02.691687Z",
     "iopub.status.busy": "2023-05-27T14:59:02.690422Z",
     "iopub.status.idle": "2023-05-27T14:59:02.701849Z",
     "shell.execute_reply": "2023-05-27T14:59:02.700564Z"
    },
    "papermill": {
     "duration": 0.046146,
     "end_time": "2023-05-27T14:59:02.704676",
     "exception": false,
     "start_time": "2023-05-27T14:59:02.658530",
     "status": "completed"
    },
    "tags": []
   },
   "outputs": [],
   "source": [
    "yield_data = yield_data.drop(columns=['Area Code'])"
   ]
  },
  {
   "attachments": {},
   "cell_type": "markdown",
   "id": "69fbf6d1",
   "metadata": {
    "papermill": {
     "duration": 0.029784,
     "end_time": "2023-05-27T14:59:02.764805",
     "exception": false,
     "start_time": "2023-05-27T14:59:02.735021",
     "status": "completed"
    },
    "tags": []
   },
   "source": [
    "#### Analysing Element Code and Element Columns"
   ]
  },
  {
   "cell_type": "code",
   "execution_count": 31,
   "id": "f6a30e4c",
   "metadata": {
    "execution": {
     "iopub.execute_input": "2023-05-27T14:59:02.834415Z",
     "iopub.status.busy": "2023-05-27T14:59:02.832536Z",
     "iopub.status.idle": "2023-05-27T14:59:02.846283Z",
     "shell.execute_reply": "2023-05-27T14:59:02.844687Z"
    },
    "papermill": {
     "duration": 0.052897,
     "end_time": "2023-05-27T14:59:02.849700",
     "exception": false,
     "start_time": "2023-05-27T14:59:02.796803",
     "status": "completed"
    },
    "tags": []
   },
   "outputs": [
    {
     "data": {
      "text/plain": [
       "array([5419])"
      ]
     },
     "execution_count": 31,
     "metadata": {},
     "output_type": "execute_result"
    }
   ],
   "source": [
    "yield_data['Element Code'].unique()"
   ]
  },
  {
   "cell_type": "code",
   "execution_count": 32,
   "id": "3b1ce19b",
   "metadata": {
    "execution": {
     "iopub.execute_input": "2023-05-27T14:59:02.912248Z",
     "iopub.status.busy": "2023-05-27T14:59:02.911567Z",
     "iopub.status.idle": "2023-05-27T14:59:02.923920Z",
     "shell.execute_reply": "2023-05-27T14:59:02.922719Z"
    },
    "papermill": {
     "duration": 0.046634,
     "end_time": "2023-05-27T14:59:02.926328",
     "exception": false,
     "start_time": "2023-05-27T14:59:02.879694",
     "status": "completed"
    },
    "tags": []
   },
   "outputs": [
    {
     "data": {
      "text/plain": [
       "array(['Yield'], dtype=object)"
      ]
     },
     "execution_count": 32,
     "metadata": {},
     "output_type": "execute_result"
    }
   ],
   "source": [
    "yield_data['Element'].unique()"
   ]
  },
  {
   "attachments": {},
   "cell_type": "markdown",
   "id": "a19cbae8",
   "metadata": {
    "papermill": {
     "duration": 0.02995,
     "end_time": "2023-05-27T14:59:02.987072",
     "exception": false,
     "start_time": "2023-05-27T14:59:02.957122",
     "status": "completed"
    },
    "tags": []
   },
   "source": [
    "Observation: \n",
    "1. Element and Element Code represent the same thing but Element Code is the short abservation of Element.\n",
    "2. Both Element and Elment Code contains only single unique values only.\n",
    "3. As Both Element Code and Element does not provide any valuable information which can help the model. Even if we include those column in our data they will best act as bias(model eqn) in some of the model such as linear regression and losgistic Regression.\n",
    "\n",
    "Conclusion: We can leave the column as it is or remove it. I choose to remove those columns."
   ]
  },
  {
   "cell_type": "code",
   "execution_count": 33,
   "id": "a9bfcd64",
   "metadata": {
    "execution": {
     "iopub.execute_input": "2023-05-27T14:59:03.051480Z",
     "iopub.status.busy": "2023-05-27T14:59:03.051014Z",
     "iopub.status.idle": "2023-05-27T14:59:03.060285Z",
     "shell.execute_reply": "2023-05-27T14:59:03.058788Z"
    },
    "papermill": {
     "duration": 0.044317,
     "end_time": "2023-05-27T14:59:03.063200",
     "exception": false,
     "start_time": "2023-05-27T14:59:03.018883",
     "status": "completed"
    },
    "tags": []
   },
   "outputs": [],
   "source": [
    "yield_data = yield_data.drop(columns=['Element', 'Element Code'])"
   ]
  },
  {
   "attachments": {},
   "cell_type": "markdown",
   "id": "b654ff82",
   "metadata": {
    "papermill": {
     "duration": 0.030874,
     "end_time": "2023-05-27T14:59:03.124716",
     "exception": false,
     "start_time": "2023-05-27T14:59:03.093842",
     "status": "completed"
    },
    "tags": []
   },
   "source": [
    "Analysing Item Code and Item Columns"
   ]
  },
  {
   "cell_type": "code",
   "execution_count": 34,
   "id": "680bf4de",
   "metadata": {
    "execution": {
     "iopub.execute_input": "2023-05-27T14:59:03.188450Z",
     "iopub.status.busy": "2023-05-27T14:59:03.187143Z",
     "iopub.status.idle": "2023-05-27T14:59:03.196957Z",
     "shell.execute_reply": "2023-05-27T14:59:03.195429Z"
    },
    "papermill": {
     "duration": 0.045032,
     "end_time": "2023-05-27T14:59:03.200210",
     "exception": false,
     "start_time": "2023-05-27T14:59:03.155178",
     "status": "completed"
    },
    "tags": []
   },
   "outputs": [
    {
     "data": {
      "text/plain": [
       "array([ 56, 116,  27,  15,  83, 236, 125, 137, 122, 489])"
      ]
     },
     "execution_count": 34,
     "metadata": {},
     "output_type": "execute_result"
    }
   ],
   "source": [
    "yield_data['Item Code'].unique()"
   ]
  },
  {
   "cell_type": "code",
   "execution_count": 35,
   "id": "586555e5",
   "metadata": {
    "execution": {
     "iopub.execute_input": "2023-05-27T14:59:03.263485Z",
     "iopub.status.busy": "2023-05-27T14:59:03.262999Z",
     "iopub.status.idle": "2023-05-27T14:59:03.276037Z",
     "shell.execute_reply": "2023-05-27T14:59:03.275115Z"
    },
    "papermill": {
     "duration": 0.047444,
     "end_time": "2023-05-27T14:59:03.278385",
     "exception": false,
     "start_time": "2023-05-27T14:59:03.230941",
     "status": "completed"
    },
    "tags": []
   },
   "outputs": [
    {
     "data": {
      "text/plain": [
       "array(['Maize', 'Potatoes', 'Rice, paddy', 'Wheat', 'Sorghum', 'Soybeans',\n",
       "       'Cassava', 'Yams', 'Sweet potatoes', 'Plantains and others'],\n",
       "      dtype=object)"
      ]
     },
     "execution_count": 35,
     "metadata": {},
     "output_type": "execute_result"
    }
   ],
   "source": [
    "yield_data['Item'].unique()"
   ]
  },
  {
   "attachments": {},
   "cell_type": "markdown",
   "id": "ed90f7eb",
   "metadata": {
    "papermill": {
     "duration": 0.030335,
     "end_time": "2023-05-27T14:59:03.339877",
     "exception": false,
     "start_time": "2023-05-27T14:59:03.309542",
     "status": "completed"
    },
    "tags": []
   },
   "source": [
    "As It is given that Item Code and Item represent the same thing so we would keep Item and remove Item Code"
   ]
  },
  {
   "cell_type": "code",
   "execution_count": 36,
   "id": "a48a9998",
   "metadata": {
    "execution": {
     "iopub.execute_input": "2023-05-27T14:59:03.403672Z",
     "iopub.status.busy": "2023-05-27T14:59:03.402850Z",
     "iopub.status.idle": "2023-05-27T14:59:03.412822Z",
     "shell.execute_reply": "2023-05-27T14:59:03.411660Z"
    },
    "papermill": {
     "duration": 0.044685,
     "end_time": "2023-05-27T14:59:03.415484",
     "exception": false,
     "start_time": "2023-05-27T14:59:03.370799",
     "status": "completed"
    },
    "tags": []
   },
   "outputs": [],
   "source": [
    "yield_data = yield_data.drop(columns=['Item Code'])"
   ]
  },
  {
   "attachments": {},
   "cell_type": "markdown",
   "id": "274ac8f8",
   "metadata": {
    "papermill": {
     "duration": 0.030496,
     "end_time": "2023-05-27T14:59:03.476661",
     "exception": false,
     "start_time": "2023-05-27T14:59:03.446165",
     "status": "completed"
    },
    "tags": []
   },
   "source": [
    "#### Analysing Year Code and Year Columns"
   ]
  },
  {
   "cell_type": "code",
   "execution_count": 37,
   "id": "0c0ce857",
   "metadata": {
    "execution": {
     "iopub.execute_input": "2023-05-27T14:59:03.540654Z",
     "iopub.status.busy": "2023-05-27T14:59:03.539844Z",
     "iopub.status.idle": "2023-05-27T14:59:03.545310Z",
     "shell.execute_reply": "2023-05-27T14:59:03.544412Z"
    },
    "papermill": {
     "duration": 0.040226,
     "end_time": "2023-05-27T14:59:03.547812",
     "exception": false,
     "start_time": "2023-05-27T14:59:03.507586",
     "status": "completed"
    },
    "tags": []
   },
   "outputs": [],
   "source": [
    "def isSame(a, b):\n",
    "    if(a.shape!=b.shape):\n",
    "        return False\n",
    "    return (np.sum((a!=b)) == 0)"
   ]
  },
  {
   "cell_type": "code",
   "execution_count": 38,
   "id": "b873a103",
   "metadata": {
    "execution": {
     "iopub.execute_input": "2023-05-27T14:59:03.613494Z",
     "iopub.status.busy": "2023-05-27T14:59:03.612581Z",
     "iopub.status.idle": "2023-05-27T14:59:03.621671Z",
     "shell.execute_reply": "2023-05-27T14:59:03.620289Z"
    },
    "papermill": {
     "duration": 0.045624,
     "end_time": "2023-05-27T14:59:03.624458",
     "exception": false,
     "start_time": "2023-05-27T14:59:03.578834",
     "status": "completed"
    },
    "tags": []
   },
   "outputs": [
    {
     "data": {
      "text/plain": [
       "True"
      ]
     },
     "execution_count": 38,
     "metadata": {},
     "output_type": "execute_result"
    }
   ],
   "source": [
    "isSame(yield_data['Year'], yield_data['Year Code'])"
   ]
  },
  {
   "attachments": {},
   "cell_type": "markdown",
   "id": "aef453e0",
   "metadata": {
    "papermill": {
     "duration": 0.030496,
     "end_time": "2023-05-27T14:59:03.686972",
     "exception": false,
     "start_time": "2023-05-27T14:59:03.656476",
     "status": "completed"
    },
    "tags": []
   },
   "source": [
    "Observation: From above we can observe that Year and Year Code column is same just column name is different. \n",
    "\n",
    "Conclusion: Remove either Year or Year Code. If not removed it will create a bias. Which is huge problem. "
   ]
  },
  {
   "cell_type": "code",
   "execution_count": 39,
   "id": "f65f5df6",
   "metadata": {
    "execution": {
     "iopub.execute_input": "2023-05-27T14:59:03.754131Z",
     "iopub.status.busy": "2023-05-27T14:59:03.753084Z",
     "iopub.status.idle": "2023-05-27T14:59:03.761716Z",
     "shell.execute_reply": "2023-05-27T14:59:03.760610Z"
    },
    "papermill": {
     "duration": 0.045929,
     "end_time": "2023-05-27T14:59:03.764710",
     "exception": false,
     "start_time": "2023-05-27T14:59:03.718781",
     "status": "completed"
    },
    "tags": []
   },
   "outputs": [],
   "source": [
    "yield_data = yield_data.drop(['Year Code'], axis=1)"
   ]
  },
  {
   "attachments": {},
   "cell_type": "markdown",
   "id": "cf9a99f0",
   "metadata": {
    "papermill": {
     "duration": 0.032395,
     "end_time": "2023-05-27T14:59:03.829043",
     "exception": false,
     "start_time": "2023-05-27T14:59:03.796648",
     "status": "completed"
    },
    "tags": []
   },
   "source": [
    "### Analysis of Unit Columns"
   ]
  },
  {
   "cell_type": "code",
   "execution_count": 40,
   "id": "99dfcdd5",
   "metadata": {
    "execution": {
     "iopub.execute_input": "2023-05-27T14:59:03.906742Z",
     "iopub.status.busy": "2023-05-27T14:59:03.905906Z",
     "iopub.status.idle": "2023-05-27T14:59:03.918463Z",
     "shell.execute_reply": "2023-05-27T14:59:03.917202Z"
    },
    "papermill": {
     "duration": 0.059361,
     "end_time": "2023-05-27T14:59:03.923631",
     "exception": false,
     "start_time": "2023-05-27T14:59:03.864270",
     "status": "completed"
    },
    "tags": []
   },
   "outputs": [
    {
     "data": {
      "text/plain": [
       "array(['hg/ha'], dtype=object)"
      ]
     },
     "execution_count": 40,
     "metadata": {},
     "output_type": "execute_result"
    }
   ],
   "source": [
    "yield_data['Unit'].unique()"
   ]
  },
  {
   "attachments": {},
   "cell_type": "markdown",
   "id": "188655b0",
   "metadata": {
    "papermill": {
     "duration": 0.030738,
     "end_time": "2023-05-27T14:59:03.988243",
     "exception": false,
     "start_time": "2023-05-27T14:59:03.957505",
     "status": "completed"
    },
    "tags": []
   },
   "source": [
    "Observation: It is a columns which defines yield unit's. Here all the row have same \n",
    "\n",
    "Conclusion:  So we would drop this columns also as it doesn't provide any type of added knowledge to a model."
   ]
  },
  {
   "cell_type": "code",
   "execution_count": 41,
   "id": "892a49d7",
   "metadata": {
    "execution": {
     "iopub.execute_input": "2023-05-27T14:59:04.052256Z",
     "iopub.status.busy": "2023-05-27T14:59:04.051464Z",
     "iopub.status.idle": "2023-05-27T14:59:04.058901Z",
     "shell.execute_reply": "2023-05-27T14:59:04.058045Z"
    },
    "papermill": {
     "duration": 0.042027,
     "end_time": "2023-05-27T14:59:04.061271",
     "exception": false,
     "start_time": "2023-05-27T14:59:04.019244",
     "status": "completed"
    },
    "tags": []
   },
   "outputs": [],
   "source": [
    "yield_data = yield_data.drop(['Unit'], axis=1)"
   ]
  },
  {
   "attachments": {},
   "cell_type": "markdown",
   "id": "11b3d468",
   "metadata": {
    "papermill": {
     "duration": 0.031845,
     "end_time": "2023-05-27T14:59:04.124634",
     "exception": false,
     "start_time": "2023-05-27T14:59:04.092789",
     "status": "completed"
    },
    "tags": []
   },
   "source": [
    "### Pesticides Dataset Analysis"
   ]
  },
  {
   "attachments": {},
   "cell_type": "markdown",
   "id": "93bc5a21",
   "metadata": {
    "papermill": {
     "duration": 0.030816,
     "end_time": "2023-05-27T14:59:04.188768",
     "exception": false,
     "start_time": "2023-05-27T14:59:04.157952",
     "status": "completed"
    },
    "tags": []
   },
   "source": [
    "### Domain Column Analysis"
   ]
  },
  {
   "cell_type": "code",
   "execution_count": 42,
   "id": "8a35ec20",
   "metadata": {
    "execution": {
     "iopub.execute_input": "2023-05-27T14:59:04.252677Z",
     "iopub.status.busy": "2023-05-27T14:59:04.252161Z",
     "iopub.status.idle": "2023-05-27T14:59:04.271681Z",
     "shell.execute_reply": "2023-05-27T14:59:04.270234Z"
    },
    "papermill": {
     "duration": 0.054597,
     "end_time": "2023-05-27T14:59:04.274390",
     "exception": false,
     "start_time": "2023-05-27T14:59:04.219793",
     "status": "completed"
    },
    "tags": []
   },
   "outputs": [
    {
     "name": "stdout",
     "output_type": "stream",
     "text": [
      "<class 'pandas.core.frame.DataFrame'>\n",
      "RangeIndex: 4349 entries, 0 to 4348\n",
      "Data columns (total 7 columns):\n",
      " #   Column   Non-Null Count  Dtype  \n",
      "---  ------   --------------  -----  \n",
      " 0   Domain   4349 non-null   object \n",
      " 1   Area     4349 non-null   object \n",
      " 2   Element  4349 non-null   object \n",
      " 3   Item     4349 non-null   object \n",
      " 4   Year     4349 non-null   int64  \n",
      " 5   Unit     4349 non-null   object \n",
      " 6   Value    4349 non-null   float64\n",
      "dtypes: float64(1), int64(1), object(5)\n",
      "memory usage: 238.0+ KB\n"
     ]
    }
   ],
   "source": [
    "pesticides_data.info()"
   ]
  },
  {
   "cell_type": "code",
   "execution_count": 43,
   "id": "65f5e012",
   "metadata": {
    "execution": {
     "iopub.execute_input": "2023-05-27T14:59:04.340464Z",
     "iopub.status.busy": "2023-05-27T14:59:04.339306Z",
     "iopub.status.idle": "2023-05-27T14:59:04.347867Z",
     "shell.execute_reply": "2023-05-27T14:59:04.346685Z"
    },
    "papermill": {
     "duration": 0.043648,
     "end_time": "2023-05-27T14:59:04.350505",
     "exception": false,
     "start_time": "2023-05-27T14:59:04.306857",
     "status": "completed"
    },
    "tags": []
   },
   "outputs": [
    {
     "data": {
      "text/plain": [
       "array(['Pesticides Use'], dtype=object)"
      ]
     },
     "execution_count": 43,
     "metadata": {},
     "output_type": "execute_result"
    }
   ],
   "source": [
    "pesticides_data['Domain'].unique()"
   ]
  },
  {
   "attachments": {},
   "cell_type": "markdown",
   "id": "329b3e7b",
   "metadata": {
    "papermill": {
     "duration": 0.031148,
     "end_time": "2023-05-27T14:59:04.413089",
     "exception": false,
     "start_time": "2023-05-27T14:59:04.381941",
     "status": "completed"
    },
    "tags": []
   },
   "source": [
    "Observation: Pesticides datasets contains the data of how much pesticides is used, where it is used, in how much quatity etc. In our dataset the domain value is only 'Pesticides Use' as it obvious now a day's farmer's uses pesticides to gain more production out of the plant and to protect them from pest. \n",
    "\n",
    "Conclusion: So we would drop this columns also as it doesn't provide any type of added knowledge to a model."
   ]
  },
  {
   "cell_type": "code",
   "execution_count": 44,
   "id": "5a2e78a5",
   "metadata": {
    "execution": {
     "iopub.execute_input": "2023-05-27T14:59:04.478053Z",
     "iopub.status.busy": "2023-05-27T14:59:04.477270Z",
     "iopub.status.idle": "2023-05-27T14:59:04.483667Z",
     "shell.execute_reply": "2023-05-27T14:59:04.482578Z"
    },
    "papermill": {
     "duration": 0.042387,
     "end_time": "2023-05-27T14:59:04.486710",
     "exception": false,
     "start_time": "2023-05-27T14:59:04.444323",
     "status": "completed"
    },
    "tags": []
   },
   "outputs": [],
   "source": [
    "pesticides_data = pesticides_data.drop(['Domain'], axis=1)"
   ]
  },
  {
   "attachments": {},
   "cell_type": "markdown",
   "id": "0b112426",
   "metadata": {
    "papermill": {
     "duration": 0.031375,
     "end_time": "2023-05-27T14:59:04.549305",
     "exception": false,
     "start_time": "2023-05-27T14:59:04.517930",
     "status": "completed"
    },
    "tags": []
   },
   "source": [
    "### Element Column Analysis"
   ]
  },
  {
   "cell_type": "code",
   "execution_count": 45,
   "id": "0858527a",
   "metadata": {
    "execution": {
     "iopub.execute_input": "2023-05-27T14:59:04.613757Z",
     "iopub.status.busy": "2023-05-27T14:59:04.613289Z",
     "iopub.status.idle": "2023-05-27T14:59:04.621246Z",
     "shell.execute_reply": "2023-05-27T14:59:04.620352Z"
    },
    "papermill": {
     "duration": 0.042732,
     "end_time": "2023-05-27T14:59:04.623500",
     "exception": false,
     "start_time": "2023-05-27T14:59:04.580768",
     "status": "completed"
    },
    "tags": []
   },
   "outputs": [
    {
     "data": {
      "text/plain": [
       "array(['Use'], dtype=object)"
      ]
     },
     "execution_count": 45,
     "metadata": {},
     "output_type": "execute_result"
    }
   ],
   "source": [
    "pesticides_data['Element'].unique()"
   ]
  },
  {
   "attachments": {},
   "cell_type": "markdown",
   "id": "584e046d",
   "metadata": {
    "papermill": {
     "duration": 0.031261,
     "end_time": "2023-05-27T14:59:04.686900",
     "exception": false,
     "start_time": "2023-05-27T14:59:04.655639",
     "status": "completed"
    },
    "tags": []
   },
   "source": [
    "Observation: In our dataset the Element value is only 'Use' as it obvious now a day's farmer's uses pesticides to gain more production out of the plant and to protect them from pest. \n",
    "\n",
    "Conclusion: So we would drop this columns also as it doesn;t provide any type of added knowledge to a model."
   ]
  },
  {
   "cell_type": "code",
   "execution_count": 46,
   "id": "a9dc1438",
   "metadata": {
    "execution": {
     "iopub.execute_input": "2023-05-27T14:59:04.753001Z",
     "iopub.status.busy": "2023-05-27T14:59:04.752569Z",
     "iopub.status.idle": "2023-05-27T14:59:04.759304Z",
     "shell.execute_reply": "2023-05-27T14:59:04.758024Z"
    },
    "papermill": {
     "duration": 0.041976,
     "end_time": "2023-05-27T14:59:04.761701",
     "exception": false,
     "start_time": "2023-05-27T14:59:04.719725",
     "status": "completed"
    },
    "tags": []
   },
   "outputs": [],
   "source": [
    "pesticides_data = pesticides_data.drop(['Element'], axis=1)"
   ]
  },
  {
   "attachments": {},
   "cell_type": "markdown",
   "id": "e49913d8",
   "metadata": {
    "papermill": {
     "duration": 0.031544,
     "end_time": "2023-05-27T14:59:04.825016",
     "exception": false,
     "start_time": "2023-05-27T14:59:04.793472",
     "status": "completed"
    },
    "tags": []
   },
   "source": [
    "### Item Columns Analysis"
   ]
  },
  {
   "cell_type": "code",
   "execution_count": 47,
   "id": "c6f7d2a8",
   "metadata": {
    "execution": {
     "iopub.execute_input": "2023-05-27T14:59:04.892264Z",
     "iopub.status.busy": "2023-05-27T14:59:04.891436Z",
     "iopub.status.idle": "2023-05-27T14:59:04.899568Z",
     "shell.execute_reply": "2023-05-27T14:59:04.898535Z"
    },
    "papermill": {
     "duration": 0.044152,
     "end_time": "2023-05-27T14:59:04.901963",
     "exception": false,
     "start_time": "2023-05-27T14:59:04.857811",
     "status": "completed"
    },
    "tags": []
   },
   "outputs": [
    {
     "data": {
      "text/plain": [
       "array(['Pesticides (total)'], dtype=object)"
      ]
     },
     "execution_count": 47,
     "metadata": {},
     "output_type": "execute_result"
    }
   ],
   "source": [
    "pesticides_data['Item'].unique()"
   ]
  },
  {
   "attachments": {},
   "cell_type": "markdown",
   "id": "a8ea9174",
   "metadata": {
    "papermill": {
     "duration": 0.031374,
     "end_time": "2023-05-27T14:59:04.965635",
     "exception": false,
     "start_time": "2023-05-27T14:59:04.934261",
     "status": "completed"
    },
    "tags": []
   },
   "source": [
    "Observation: In our dataset there is only Item.\n",
    "\n",
    "Conclusion: So we would drop this columns also as it doesn;t provide any type of added knowledge to a model."
   ]
  },
  {
   "cell_type": "code",
   "execution_count": 48,
   "id": "c5d4f7cf",
   "metadata": {
    "execution": {
     "iopub.execute_input": "2023-05-27T14:59:05.030375Z",
     "iopub.status.busy": "2023-05-27T14:59:05.029880Z",
     "iopub.status.idle": "2023-05-27T14:59:05.036544Z",
     "shell.execute_reply": "2023-05-27T14:59:05.035292Z"
    },
    "papermill": {
     "duration": 0.04244,
     "end_time": "2023-05-27T14:59:05.039392",
     "exception": false,
     "start_time": "2023-05-27T14:59:04.996952",
     "status": "completed"
    },
    "tags": []
   },
   "outputs": [],
   "source": [
    "pesticides_data = pesticides_data.drop(['Item'], axis=1)"
   ]
  },
  {
   "attachments": {},
   "cell_type": "markdown",
   "id": "07320468",
   "metadata": {
    "papermill": {
     "duration": 0.031915,
     "end_time": "2023-05-27T14:59:05.103755",
     "exception": false,
     "start_time": "2023-05-27T14:59:05.071840",
     "status": "completed"
    },
    "tags": []
   },
   "source": [
    "### Unit Columns Analysis"
   ]
  },
  {
   "cell_type": "code",
   "execution_count": 49,
   "id": "7694858e",
   "metadata": {
    "execution": {
     "iopub.execute_input": "2023-05-27T14:59:05.169382Z",
     "iopub.status.busy": "2023-05-27T14:59:05.168913Z",
     "iopub.status.idle": "2023-05-27T14:59:05.177307Z",
     "shell.execute_reply": "2023-05-27T14:59:05.176250Z"
    },
    "papermill": {
     "duration": 0.044401,
     "end_time": "2023-05-27T14:59:05.179816",
     "exception": false,
     "start_time": "2023-05-27T14:59:05.135415",
     "status": "completed"
    },
    "tags": []
   },
   "outputs": [
    {
     "data": {
      "text/plain": [
       "array(['tonnes of active ingredients'], dtype=object)"
      ]
     },
     "execution_count": 49,
     "metadata": {},
     "output_type": "execute_result"
    }
   ],
   "source": [
    "pesticides_data['Unit'].unique()"
   ]
  },
  {
   "attachments": {},
   "cell_type": "markdown",
   "id": "2e44c6b0",
   "metadata": {
    "papermill": {
     "duration": 0.031317,
     "end_time": "2023-05-27T14:59:05.243269",
     "exception": false,
     "start_time": "2023-05-27T14:59:05.211952",
     "status": "completed"
    },
    "tags": []
   },
   "source": [
    " Observation: It is a columns which defines yield unit's. Here all the row have same \n",
    " \n",
    " Conclusion: So we would drop this columns also as it doesn;t provide any type of added knowledge to a model."
   ]
  },
  {
   "cell_type": "code",
   "execution_count": 50,
   "id": "ba0cf81e",
   "metadata": {
    "execution": {
     "iopub.execute_input": "2023-05-27T14:59:05.309668Z",
     "iopub.status.busy": "2023-05-27T14:59:05.309205Z",
     "iopub.status.idle": "2023-05-27T14:59:05.315031Z",
     "shell.execute_reply": "2023-05-27T14:59:05.314181Z"
    },
    "papermill": {
     "duration": 0.042324,
     "end_time": "2023-05-27T14:59:05.317154",
     "exception": false,
     "start_time": "2023-05-27T14:59:05.274830",
     "status": "completed"
    },
    "tags": []
   },
   "outputs": [],
   "source": [
    "pesticides_data = pesticides_data.drop(['Unit'], axis=1)"
   ]
  },
  {
   "attachments": {},
   "cell_type": "markdown",
   "id": "75241f66",
   "metadata": {
    "papermill": {
     "duration": 0.031239,
     "end_time": "2023-05-27T14:59:05.380820",
     "exception": false,
     "start_time": "2023-05-27T14:59:05.349581",
     "status": "completed"
    },
    "tags": []
   },
   "source": [
    "### Merging All The Dataset"
   ]
  },
  {
   "cell_type": "code",
   "execution_count": 51,
   "id": "dbd0df16",
   "metadata": {
    "execution": {
     "iopub.execute_input": "2023-05-27T14:59:05.446516Z",
     "iopub.status.busy": "2023-05-27T14:59:05.446053Z",
     "iopub.status.idle": "2023-05-27T14:59:05.495254Z",
     "shell.execute_reply": "2023-05-27T14:59:05.493884Z"
    },
    "papermill": {
     "duration": 0.085089,
     "end_time": "2023-05-27T14:59:05.497733",
     "exception": false,
     "start_time": "2023-05-27T14:59:05.412644",
     "status": "completed"
    },
    "tags": []
   },
   "outputs": [
    {
     "name": "stdout",
     "output_type": "stream",
     "text": [
      "<class 'pandas.core.frame.DataFrame'>\n",
      "RangeIndex: 56717 entries, 0 to 56716\n",
      "Data columns (total 4 columns):\n",
      " #   Column  Non-Null Count  Dtype \n",
      "---  ------  --------------  ----- \n",
      " 0   Area    56717 non-null  object\n",
      " 1   Item    56717 non-null  object\n",
      " 2   Year    56717 non-null  int64 \n",
      " 3   Value   56717 non-null  int64 \n",
      "dtypes: int64(2), object(2)\n",
      "memory usage: 1.7+ MB\n"
     ]
    }
   ],
   "source": [
    "yield_data.info()"
   ]
  },
  {
   "cell_type": "code",
   "execution_count": 52,
   "id": "4c17580a",
   "metadata": {
    "execution": {
     "iopub.execute_input": "2023-05-27T14:59:05.563131Z",
     "iopub.status.busy": "2023-05-27T14:59:05.562717Z",
     "iopub.status.idle": "2023-05-27T14:59:05.579703Z",
     "shell.execute_reply": "2023-05-27T14:59:05.578292Z"
    },
    "papermill": {
     "duration": 0.052655,
     "end_time": "2023-05-27T14:59:05.582221",
     "exception": false,
     "start_time": "2023-05-27T14:59:05.529566",
     "status": "completed"
    },
    "tags": []
   },
   "outputs": [
    {
     "name": "stdout",
     "output_type": "stream",
     "text": [
      "<class 'pandas.core.frame.DataFrame'>\n",
      "RangeIndex: 6727 entries, 0 to 6726\n",
      "Data columns (total 3 columns):\n",
      " #   Column                         Non-Null Count  Dtype \n",
      "---  ------                         --------------  ----- \n",
      " 0    Area                          6727 non-null   object\n",
      " 1   Year                           6727 non-null   int64 \n",
      " 2   average_rain_fall_mm_per_year  5953 non-null   object\n",
      "dtypes: int64(1), object(2)\n",
      "memory usage: 157.8+ KB\n"
     ]
    }
   ],
   "source": [
    "rainfall_data.info()"
   ]
  },
  {
   "cell_type": "code",
   "execution_count": 53,
   "id": "dd007ae8",
   "metadata": {
    "execution": {
     "iopub.execute_input": "2023-05-27T14:59:05.648079Z",
     "iopub.status.busy": "2023-05-27T14:59:05.647635Z",
     "iopub.status.idle": "2023-05-27T14:59:05.653422Z",
     "shell.execute_reply": "2023-05-27T14:59:05.652287Z"
    },
    "papermill": {
     "duration": 0.041698,
     "end_time": "2023-05-27T14:59:05.655727",
     "exception": false,
     "start_time": "2023-05-27T14:59:05.614029",
     "status": "completed"
    },
    "tags": []
   },
   "outputs": [],
   "source": [
    "rainfall_data.columns = ['Area', 'Year', 'average_rain_fall_mm_per_year']"
   ]
  },
  {
   "cell_type": "code",
   "execution_count": 54,
   "id": "c7e0f7c2",
   "metadata": {
    "execution": {
     "iopub.execute_input": "2023-05-27T14:59:05.723493Z",
     "iopub.status.busy": "2023-05-27T14:59:05.722737Z",
     "iopub.status.idle": "2023-05-27T14:59:05.751071Z",
     "shell.execute_reply": "2023-05-27T14:59:05.749791Z"
    },
    "papermill": {
     "duration": 0.065965,
     "end_time": "2023-05-27T14:59:05.753972",
     "exception": false,
     "start_time": "2023-05-27T14:59:05.688007",
     "status": "completed"
    },
    "tags": []
   },
   "outputs": [],
   "source": [
    "merged_data = pd.merge(yield_data, rainfall_data, how = 'inner', on=['Area', 'Year'])"
   ]
  },
  {
   "cell_type": "code",
   "execution_count": 55,
   "id": "62c850a2",
   "metadata": {
    "execution": {
     "iopub.execute_input": "2023-05-27T14:59:05.822105Z",
     "iopub.status.busy": "2023-05-27T14:59:05.821418Z",
     "iopub.status.idle": "2023-05-27T14:59:05.837073Z",
     "shell.execute_reply": "2023-05-27T14:59:05.835807Z"
    },
    "papermill": {
     "duration": 0.053777,
     "end_time": "2023-05-27T14:59:05.839741",
     "exception": false,
     "start_time": "2023-05-27T14:59:05.785964",
     "status": "completed"
    },
    "tags": []
   },
   "outputs": [
    {
     "data": {
      "text/html": [
       "<div>\n",
       "<style scoped>\n",
       "    .dataframe tbody tr th:only-of-type {\n",
       "        vertical-align: middle;\n",
       "    }\n",
       "\n",
       "    .dataframe tbody tr th {\n",
       "        vertical-align: top;\n",
       "    }\n",
       "\n",
       "    .dataframe thead th {\n",
       "        text-align: right;\n",
       "    }\n",
       "</style>\n",
       "<table border=\"1\" class=\"dataframe\">\n",
       "  <thead>\n",
       "    <tr style=\"text-align: right;\">\n",
       "      <th></th>\n",
       "      <th>Area</th>\n",
       "      <th>Item</th>\n",
       "      <th>Year</th>\n",
       "      <th>Value</th>\n",
       "      <th>average_rain_fall_mm_per_year</th>\n",
       "    </tr>\n",
       "  </thead>\n",
       "  <tbody>\n",
       "    <tr>\n",
       "      <th>0</th>\n",
       "      <td>Afghanistan</td>\n",
       "      <td>Maize</td>\n",
       "      <td>1985</td>\n",
       "      <td>16652</td>\n",
       "      <td>327</td>\n",
       "    </tr>\n",
       "    <tr>\n",
       "      <th>1</th>\n",
       "      <td>Afghanistan</td>\n",
       "      <td>Potatoes</td>\n",
       "      <td>1985</td>\n",
       "      <td>140909</td>\n",
       "      <td>327</td>\n",
       "    </tr>\n",
       "    <tr>\n",
       "      <th>2</th>\n",
       "      <td>Afghanistan</td>\n",
       "      <td>Rice, paddy</td>\n",
       "      <td>1985</td>\n",
       "      <td>22482</td>\n",
       "      <td>327</td>\n",
       "    </tr>\n",
       "    <tr>\n",
       "      <th>3</th>\n",
       "      <td>Afghanistan</td>\n",
       "      <td>Wheat</td>\n",
       "      <td>1985</td>\n",
       "      <td>12277</td>\n",
       "      <td>327</td>\n",
       "    </tr>\n",
       "    <tr>\n",
       "      <th>4</th>\n",
       "      <td>Afghanistan</td>\n",
       "      <td>Maize</td>\n",
       "      <td>1986</td>\n",
       "      <td>16875</td>\n",
       "      <td>327</td>\n",
       "    </tr>\n",
       "    <tr>\n",
       "      <th>...</th>\n",
       "      <td>...</td>\n",
       "      <td>...</td>\n",
       "      <td>...</td>\n",
       "      <td>...</td>\n",
       "      <td>...</td>\n",
       "    </tr>\n",
       "    <tr>\n",
       "      <th>26100</th>\n",
       "      <td>Zimbabwe</td>\n",
       "      <td>Rice, paddy</td>\n",
       "      <td>2016</td>\n",
       "      <td>22828</td>\n",
       "      <td>657</td>\n",
       "    </tr>\n",
       "    <tr>\n",
       "      <th>26101</th>\n",
       "      <td>Zimbabwe</td>\n",
       "      <td>Sorghum</td>\n",
       "      <td>2016</td>\n",
       "      <td>2688</td>\n",
       "      <td>657</td>\n",
       "    </tr>\n",
       "    <tr>\n",
       "      <th>26102</th>\n",
       "      <td>Zimbabwe</td>\n",
       "      <td>Soybeans</td>\n",
       "      <td>2016</td>\n",
       "      <td>12727</td>\n",
       "      <td>657</td>\n",
       "    </tr>\n",
       "    <tr>\n",
       "      <th>26103</th>\n",
       "      <td>Zimbabwe</td>\n",
       "      <td>Sweet potatoes</td>\n",
       "      <td>2016</td>\n",
       "      <td>22212</td>\n",
       "      <td>657</td>\n",
       "    </tr>\n",
       "    <tr>\n",
       "      <th>26104</th>\n",
       "      <td>Zimbabwe</td>\n",
       "      <td>Wheat</td>\n",
       "      <td>2016</td>\n",
       "      <td>18294</td>\n",
       "      <td>657</td>\n",
       "    </tr>\n",
       "  </tbody>\n",
       "</table>\n",
       "<p>26105 rows × 5 columns</p>\n",
       "</div>"
      ],
      "text/plain": [
       "              Area            Item  Year   Value average_rain_fall_mm_per_year\n",
       "0      Afghanistan           Maize  1985   16652                           327\n",
       "1      Afghanistan        Potatoes  1985  140909                           327\n",
       "2      Afghanistan     Rice, paddy  1985   22482                           327\n",
       "3      Afghanistan           Wheat  1985   12277                           327\n",
       "4      Afghanistan           Maize  1986   16875                           327\n",
       "...            ...             ...   ...     ...                           ...\n",
       "26100     Zimbabwe     Rice, paddy  2016   22828                           657\n",
       "26101     Zimbabwe         Sorghum  2016    2688                           657\n",
       "26102     Zimbabwe        Soybeans  2016   12727                           657\n",
       "26103     Zimbabwe  Sweet potatoes  2016   22212                           657\n",
       "26104     Zimbabwe           Wheat  2016   18294                           657\n",
       "\n",
       "[26105 rows x 5 columns]"
      ]
     },
     "execution_count": 55,
     "metadata": {},
     "output_type": "execute_result"
    }
   ],
   "source": [
    "merged_data"
   ]
  },
  {
   "cell_type": "code",
   "execution_count": 56,
   "id": "6db5a32b",
   "metadata": {
    "execution": {
     "iopub.execute_input": "2023-05-27T14:59:05.907254Z",
     "iopub.status.busy": "2023-05-27T14:59:05.906827Z",
     "iopub.status.idle": "2023-05-27T14:59:05.911613Z",
     "shell.execute_reply": "2023-05-27T14:59:05.910640Z"
    },
    "papermill": {
     "duration": 0.041339,
     "end_time": "2023-05-27T14:59:05.913898",
     "exception": false,
     "start_time": "2023-05-27T14:59:05.872559",
     "status": "completed"
    },
    "tags": []
   },
   "outputs": [],
   "source": [
    "merged_data.columns = ['Area', 'Item', 'Year', 'Yield Value', 'average_rain_fall_mm_per_year']"
   ]
  },
  {
   "cell_type": "code",
   "execution_count": 57,
   "id": "0bdfed78",
   "metadata": {
    "execution": {
     "iopub.execute_input": "2023-05-27T14:59:05.979833Z",
     "iopub.status.busy": "2023-05-27T14:59:05.979433Z",
     "iopub.status.idle": "2023-05-27T14:59:05.994329Z",
     "shell.execute_reply": "2023-05-27T14:59:05.993108Z"
    },
    "papermill": {
     "duration": 0.051101,
     "end_time": "2023-05-27T14:59:05.997054",
     "exception": false,
     "start_time": "2023-05-27T14:59:05.945953",
     "status": "completed"
    },
    "tags": []
   },
   "outputs": [
    {
     "name": "stdout",
     "output_type": "stream",
     "text": [
      "<class 'pandas.core.frame.DataFrame'>\n",
      "RangeIndex: 4349 entries, 0 to 4348\n",
      "Data columns (total 3 columns):\n",
      " #   Column  Non-Null Count  Dtype  \n",
      "---  ------  --------------  -----  \n",
      " 0   Area    4349 non-null   object \n",
      " 1   Year    4349 non-null   int64  \n",
      " 2   Value   4349 non-null   float64\n",
      "dtypes: float64(1), int64(1), object(1)\n",
      "memory usage: 102.1+ KB\n"
     ]
    }
   ],
   "source": [
    "pesticides_data.info()"
   ]
  },
  {
   "cell_type": "code",
   "execution_count": 58,
   "id": "5222a69f",
   "metadata": {
    "execution": {
     "iopub.execute_input": "2023-05-27T14:59:06.063404Z",
     "iopub.status.busy": "2023-05-27T14:59:06.062972Z",
     "iopub.status.idle": "2023-05-27T14:59:06.068573Z",
     "shell.execute_reply": "2023-05-27T14:59:06.067404Z"
    },
    "papermill": {
     "duration": 0.041446,
     "end_time": "2023-05-27T14:59:06.070929",
     "exception": false,
     "start_time": "2023-05-27T14:59:06.029483",
     "status": "completed"
    },
    "tags": []
   },
   "outputs": [],
   "source": [
    "pesticides_data.columns = ['Area', 'Year', 'Pesticies Value']"
   ]
  },
  {
   "cell_type": "code",
   "execution_count": 59,
   "id": "2d78b180",
   "metadata": {
    "execution": {
     "iopub.execute_input": "2023-05-27T14:59:06.140166Z",
     "iopub.status.busy": "2023-05-27T14:59:06.139765Z",
     "iopub.status.idle": "2023-05-27T14:59:06.159811Z",
     "shell.execute_reply": "2023-05-27T14:59:06.158543Z"
    },
    "papermill": {
     "duration": 0.057049,
     "end_time": "2023-05-27T14:59:06.162607",
     "exception": false,
     "start_time": "2023-05-27T14:59:06.105558",
     "status": "completed"
    },
    "tags": []
   },
   "outputs": [],
   "source": [
    "merged_data = pd.merge(merged_data, pesticides_data, how = 'inner', on=['Area', 'Year'])"
   ]
  },
  {
   "cell_type": "code",
   "execution_count": 60,
   "id": "205de48d",
   "metadata": {
    "execution": {
     "iopub.execute_input": "2023-05-27T14:59:06.230132Z",
     "iopub.status.busy": "2023-05-27T14:59:06.229681Z",
     "iopub.status.idle": "2023-05-27T14:59:06.246873Z",
     "shell.execute_reply": "2023-05-27T14:59:06.245877Z"
    },
    "papermill": {
     "duration": 0.05385,
     "end_time": "2023-05-27T14:59:06.249286",
     "exception": false,
     "start_time": "2023-05-27T14:59:06.195436",
     "status": "completed"
    },
    "tags": []
   },
   "outputs": [
    {
     "data": {
      "text/html": [
       "<div>\n",
       "<style scoped>\n",
       "    .dataframe tbody tr th:only-of-type {\n",
       "        vertical-align: middle;\n",
       "    }\n",
       "\n",
       "    .dataframe tbody tr th {\n",
       "        vertical-align: top;\n",
       "    }\n",
       "\n",
       "    .dataframe thead th {\n",
       "        text-align: right;\n",
       "    }\n",
       "</style>\n",
       "<table border=\"1\" class=\"dataframe\">\n",
       "  <thead>\n",
       "    <tr style=\"text-align: right;\">\n",
       "      <th></th>\n",
       "      <th>Area</th>\n",
       "      <th>Item</th>\n",
       "      <th>Year</th>\n",
       "      <th>Yield Value</th>\n",
       "      <th>average_rain_fall_mm_per_year</th>\n",
       "      <th>Pesticies Value</th>\n",
       "    </tr>\n",
       "  </thead>\n",
       "  <tbody>\n",
       "    <tr>\n",
       "      <th>0</th>\n",
       "      <td>Albania</td>\n",
       "      <td>Maize</td>\n",
       "      <td>1990</td>\n",
       "      <td>36613</td>\n",
       "      <td>1485</td>\n",
       "      <td>121.00</td>\n",
       "    </tr>\n",
       "    <tr>\n",
       "      <th>1</th>\n",
       "      <td>Albania</td>\n",
       "      <td>Potatoes</td>\n",
       "      <td>1990</td>\n",
       "      <td>66667</td>\n",
       "      <td>1485</td>\n",
       "      <td>121.00</td>\n",
       "    </tr>\n",
       "    <tr>\n",
       "      <th>2</th>\n",
       "      <td>Albania</td>\n",
       "      <td>Rice, paddy</td>\n",
       "      <td>1990</td>\n",
       "      <td>23333</td>\n",
       "      <td>1485</td>\n",
       "      <td>121.00</td>\n",
       "    </tr>\n",
       "    <tr>\n",
       "      <th>3</th>\n",
       "      <td>Albania</td>\n",
       "      <td>Sorghum</td>\n",
       "      <td>1990</td>\n",
       "      <td>12500</td>\n",
       "      <td>1485</td>\n",
       "      <td>121.00</td>\n",
       "    </tr>\n",
       "    <tr>\n",
       "      <th>4</th>\n",
       "      <td>Albania</td>\n",
       "      <td>Soybeans</td>\n",
       "      <td>1990</td>\n",
       "      <td>7000</td>\n",
       "      <td>1485</td>\n",
       "      <td>121.00</td>\n",
       "    </tr>\n",
       "    <tr>\n",
       "      <th>...</th>\n",
       "      <td>...</td>\n",
       "      <td>...</td>\n",
       "      <td>...</td>\n",
       "      <td>...</td>\n",
       "      <td>...</td>\n",
       "      <td>...</td>\n",
       "    </tr>\n",
       "    <tr>\n",
       "      <th>19351</th>\n",
       "      <td>Zimbabwe</td>\n",
       "      <td>Rice, paddy</td>\n",
       "      <td>2016</td>\n",
       "      <td>22828</td>\n",
       "      <td>657</td>\n",
       "      <td>2185.07</td>\n",
       "    </tr>\n",
       "    <tr>\n",
       "      <th>19352</th>\n",
       "      <td>Zimbabwe</td>\n",
       "      <td>Sorghum</td>\n",
       "      <td>2016</td>\n",
       "      <td>2688</td>\n",
       "      <td>657</td>\n",
       "      <td>2185.07</td>\n",
       "    </tr>\n",
       "    <tr>\n",
       "      <th>19353</th>\n",
       "      <td>Zimbabwe</td>\n",
       "      <td>Soybeans</td>\n",
       "      <td>2016</td>\n",
       "      <td>12727</td>\n",
       "      <td>657</td>\n",
       "      <td>2185.07</td>\n",
       "    </tr>\n",
       "    <tr>\n",
       "      <th>19354</th>\n",
       "      <td>Zimbabwe</td>\n",
       "      <td>Sweet potatoes</td>\n",
       "      <td>2016</td>\n",
       "      <td>22212</td>\n",
       "      <td>657</td>\n",
       "      <td>2185.07</td>\n",
       "    </tr>\n",
       "    <tr>\n",
       "      <th>19355</th>\n",
       "      <td>Zimbabwe</td>\n",
       "      <td>Wheat</td>\n",
       "      <td>2016</td>\n",
       "      <td>18294</td>\n",
       "      <td>657</td>\n",
       "      <td>2185.07</td>\n",
       "    </tr>\n",
       "  </tbody>\n",
       "</table>\n",
       "<p>19356 rows × 6 columns</p>\n",
       "</div>"
      ],
      "text/plain": [
       "           Area            Item  Year  Yield Value   \n",
       "0       Albania           Maize  1990        36613  \\\n",
       "1       Albania        Potatoes  1990        66667   \n",
       "2       Albania     Rice, paddy  1990        23333   \n",
       "3       Albania         Sorghum  1990        12500   \n",
       "4       Albania        Soybeans  1990         7000   \n",
       "...         ...             ...   ...          ...   \n",
       "19351  Zimbabwe     Rice, paddy  2016        22828   \n",
       "19352  Zimbabwe         Sorghum  2016         2688   \n",
       "19353  Zimbabwe        Soybeans  2016        12727   \n",
       "19354  Zimbabwe  Sweet potatoes  2016        22212   \n",
       "19355  Zimbabwe           Wheat  2016        18294   \n",
       "\n",
       "      average_rain_fall_mm_per_year  Pesticies Value  \n",
       "0                              1485           121.00  \n",
       "1                              1485           121.00  \n",
       "2                              1485           121.00  \n",
       "3                              1485           121.00  \n",
       "4                              1485           121.00  \n",
       "...                             ...              ...  \n",
       "19351                           657          2185.07  \n",
       "19352                           657          2185.07  \n",
       "19353                           657          2185.07  \n",
       "19354                           657          2185.07  \n",
       "19355                           657          2185.07  \n",
       "\n",
       "[19356 rows x 6 columns]"
      ]
     },
     "execution_count": 60,
     "metadata": {},
     "output_type": "execute_result"
    }
   ],
   "source": [
    "merged_data"
   ]
  },
  {
   "cell_type": "code",
   "execution_count": 61,
   "id": "f3cd1f14",
   "metadata": {
    "execution": {
     "iopub.execute_input": "2023-05-27T14:59:06.317190Z",
     "iopub.status.busy": "2023-05-27T14:59:06.316793Z",
     "iopub.status.idle": "2023-05-27T14:59:06.353137Z",
     "shell.execute_reply": "2023-05-27T14:59:06.351822Z"
    },
    "papermill": {
     "duration": 0.073461,
     "end_time": "2023-05-27T14:59:06.355743",
     "exception": false,
     "start_time": "2023-05-27T14:59:06.282282",
     "status": "completed"
    },
    "tags": []
   },
   "outputs": [
    {
     "name": "stdout",
     "output_type": "stream",
     "text": [
      "<class 'pandas.core.frame.DataFrame'>\n",
      "RangeIndex: 71311 entries, 0 to 71310\n",
      "Data columns (total 3 columns):\n",
      " #   Column    Non-Null Count  Dtype  \n",
      "---  ------    --------------  -----  \n",
      " 0   year      71311 non-null  int64  \n",
      " 1   country   71311 non-null  object \n",
      " 2   avg_temp  68764 non-null  float64\n",
      "dtypes: float64(1), int64(1), object(1)\n",
      "memory usage: 1.6+ MB\n"
     ]
    }
   ],
   "source": [
    "temp_data.info()"
   ]
  },
  {
   "cell_type": "code",
   "execution_count": 62,
   "id": "25af5b51",
   "metadata": {
    "execution": {
     "iopub.execute_input": "2023-05-27T14:59:06.423622Z",
     "iopub.status.busy": "2023-05-27T14:59:06.423192Z",
     "iopub.status.idle": "2023-05-27T14:59:06.429319Z",
     "shell.execute_reply": "2023-05-27T14:59:06.428187Z"
    },
    "papermill": {
     "duration": 0.04326,
     "end_time": "2023-05-27T14:59:06.431772",
     "exception": false,
     "start_time": "2023-05-27T14:59:06.388512",
     "status": "completed"
    },
    "tags": []
   },
   "outputs": [],
   "source": [
    "temp_data.columns = ['Year', 'Area', 'Avg_Temp']"
   ]
  },
  {
   "cell_type": "code",
   "execution_count": 63,
   "id": "6f4f7a4a",
   "metadata": {
    "execution": {
     "iopub.execute_input": "2023-05-27T14:59:06.498916Z",
     "iopub.status.busy": "2023-05-27T14:59:06.498509Z",
     "iopub.status.idle": "2023-05-27T14:59:06.530996Z",
     "shell.execute_reply": "2023-05-27T14:59:06.529696Z"
    },
    "papermill": {
     "duration": 0.069172,
     "end_time": "2023-05-27T14:59:06.533725",
     "exception": false,
     "start_time": "2023-05-27T14:59:06.464553",
     "status": "completed"
    },
    "tags": []
   },
   "outputs": [],
   "source": [
    "merged_data = pd.merge(merged_data, temp_data, how = 'inner', on=['Area', 'Year'])"
   ]
  },
  {
   "cell_type": "code",
   "execution_count": 64,
   "id": "8aea28c7",
   "metadata": {
    "execution": {
     "iopub.execute_input": "2023-05-27T14:59:06.601221Z",
     "iopub.status.busy": "2023-05-27T14:59:06.600780Z",
     "iopub.status.idle": "2023-05-27T14:59:06.622092Z",
     "shell.execute_reply": "2023-05-27T14:59:06.620923Z"
    },
    "papermill": {
     "duration": 0.058072,
     "end_time": "2023-05-27T14:59:06.624577",
     "exception": false,
     "start_time": "2023-05-27T14:59:06.566505",
     "status": "completed"
    },
    "tags": []
   },
   "outputs": [
    {
     "data": {
      "text/html": [
       "<div>\n",
       "<style scoped>\n",
       "    .dataframe tbody tr th:only-of-type {\n",
       "        vertical-align: middle;\n",
       "    }\n",
       "\n",
       "    .dataframe tbody tr th {\n",
       "        vertical-align: top;\n",
       "    }\n",
       "\n",
       "    .dataframe thead th {\n",
       "        text-align: right;\n",
       "    }\n",
       "</style>\n",
       "<table border=\"1\" class=\"dataframe\">\n",
       "  <thead>\n",
       "    <tr style=\"text-align: right;\">\n",
       "      <th></th>\n",
       "      <th>Area</th>\n",
       "      <th>Item</th>\n",
       "      <th>Year</th>\n",
       "      <th>Yield Value</th>\n",
       "      <th>average_rain_fall_mm_per_year</th>\n",
       "      <th>Pesticies Value</th>\n",
       "      <th>Avg_Temp</th>\n",
       "    </tr>\n",
       "  </thead>\n",
       "  <tbody>\n",
       "    <tr>\n",
       "      <th>24436</th>\n",
       "      <td>Senegal</td>\n",
       "      <td>Maize</td>\n",
       "      <td>2007</td>\n",
       "      <td>11008</td>\n",
       "      <td>686</td>\n",
       "      <td>557.92</td>\n",
       "      <td>25.34</td>\n",
       "    </tr>\n",
       "    <tr>\n",
       "      <th>4544</th>\n",
       "      <td>Brazil</td>\n",
       "      <td>Maize</td>\n",
       "      <td>2011</td>\n",
       "      <td>42107</td>\n",
       "      <td>1761</td>\n",
       "      <td>345026.00</td>\n",
       "      <td>20.33</td>\n",
       "    </tr>\n",
       "    <tr>\n",
       "      <th>11078</th>\n",
       "      <td>India</td>\n",
       "      <td>Maize</td>\n",
       "      <td>1993</td>\n",
       "      <td>16015</td>\n",
       "      <td>1083</td>\n",
       "      <td>66388.00</td>\n",
       "      <td>27.04</td>\n",
       "    </tr>\n",
       "    <tr>\n",
       "      <th>15768</th>\n",
       "      <td>Italy</td>\n",
       "      <td>Sorghum</td>\n",
       "      <td>1994</td>\n",
       "      <td>59924</td>\n",
       "      <td>832</td>\n",
       "      <td>81217.60</td>\n",
       "      <td>8.39</td>\n",
       "    </tr>\n",
       "    <tr>\n",
       "      <th>25759</th>\n",
       "      <td>Sri Lanka</td>\n",
       "      <td>Sweet potatoes</td>\n",
       "      <td>1998</td>\n",
       "      <td>60640</td>\n",
       "      <td>1712</td>\n",
       "      <td>1532.41</td>\n",
       "      <td>27.13</td>\n",
       "    </tr>\n",
       "    <tr>\n",
       "      <th>16424</th>\n",
       "      <td>Japan</td>\n",
       "      <td>Sweet potatoes</td>\n",
       "      <td>1995</td>\n",
       "      <td>241020</td>\n",
       "      <td>1668</td>\n",
       "      <td>79821.18</td>\n",
       "      <td>12.98</td>\n",
       "    </tr>\n",
       "    <tr>\n",
       "      <th>25730</th>\n",
       "      <td>Sri Lanka</td>\n",
       "      <td>Plantains and others</td>\n",
       "      <td>1995</td>\n",
       "      <td>131818</td>\n",
       "      <td>1712</td>\n",
       "      <td>1735.50</td>\n",
       "      <td>26.59</td>\n",
       "    </tr>\n",
       "    <tr>\n",
       "      <th>14745</th>\n",
       "      <td>Indonesia</td>\n",
       "      <td>Maize</td>\n",
       "      <td>1995</td>\n",
       "      <td>22580</td>\n",
       "      <td>2702</td>\n",
       "      <td>1597.00</td>\n",
       "      <td>27.28</td>\n",
       "    </tr>\n",
       "    <tr>\n",
       "      <th>19479</th>\n",
       "      <td>Mexico</td>\n",
       "      <td>Sweet potatoes</td>\n",
       "      <td>1997</td>\n",
       "      <td>209597</td>\n",
       "      <td>758</td>\n",
       "      <td>34468.93</td>\n",
       "      <td>25.21</td>\n",
       "    </tr>\n",
       "    <tr>\n",
       "      <th>2009</th>\n",
       "      <td>Bahamas</td>\n",
       "      <td>Sweet potatoes</td>\n",
       "      <td>1997</td>\n",
       "      <td>30800</td>\n",
       "      <td>1292</td>\n",
       "      <td>484.59</td>\n",
       "      <td>25.81</td>\n",
       "    </tr>\n",
       "    <tr>\n",
       "      <th>24557</th>\n",
       "      <td>Slovenia</td>\n",
       "      <td>Maize</td>\n",
       "      <td>2013</td>\n",
       "      <td>54145</td>\n",
       "      <td>1162</td>\n",
       "      <td>917.49</td>\n",
       "      <td>11.58</td>\n",
       "    </tr>\n",
       "    <tr>\n",
       "      <th>26899</th>\n",
       "      <td>Turkey</td>\n",
       "      <td>Rice, paddy</td>\n",
       "      <td>2005</td>\n",
       "      <td>70664</td>\n",
       "      <td>593</td>\n",
       "      <td>40332.00</td>\n",
       "      <td>14.23</td>\n",
       "    </tr>\n",
       "    <tr>\n",
       "      <th>26634</th>\n",
       "      <td>Turkey</td>\n",
       "      <td>Maize</td>\n",
       "      <td>1994</td>\n",
       "      <td>38181</td>\n",
       "      <td>593</td>\n",
       "      <td>24219.00</td>\n",
       "      <td>14.88</td>\n",
       "    </tr>\n",
       "    <tr>\n",
       "      <th>9626</th>\n",
       "      <td>Guatemala</td>\n",
       "      <td>Plantains and others</td>\n",
       "      <td>2007</td>\n",
       "      <td>167445</td>\n",
       "      <td>1996</td>\n",
       "      <td>22883.17</td>\n",
       "      <td>19.90</td>\n",
       "    </tr>\n",
       "    <tr>\n",
       "      <th>4835</th>\n",
       "      <td>Bulgaria</td>\n",
       "      <td>Soybeans</td>\n",
       "      <td>1991</td>\n",
       "      <td>18800</td>\n",
       "      <td>608</td>\n",
       "      <td>3906.00</td>\n",
       "      <td>8.14</td>\n",
       "    </tr>\n",
       "  </tbody>\n",
       "</table>\n",
       "</div>"
      ],
      "text/plain": [
       "            Area                  Item  Year  Yield Value   \n",
       "24436    Senegal                 Maize  2007        11008  \\\n",
       "4544      Brazil                 Maize  2011        42107   \n",
       "11078      India                 Maize  1993        16015   \n",
       "15768      Italy               Sorghum  1994        59924   \n",
       "25759  Sri Lanka        Sweet potatoes  1998        60640   \n",
       "16424      Japan        Sweet potatoes  1995       241020   \n",
       "25730  Sri Lanka  Plantains and others  1995       131818   \n",
       "14745  Indonesia                 Maize  1995        22580   \n",
       "19479     Mexico        Sweet potatoes  1997       209597   \n",
       "2009     Bahamas        Sweet potatoes  1997        30800   \n",
       "24557   Slovenia                 Maize  2013        54145   \n",
       "26899     Turkey           Rice, paddy  2005        70664   \n",
       "26634     Turkey                 Maize  1994        38181   \n",
       "9626   Guatemala  Plantains and others  2007       167445   \n",
       "4835    Bulgaria              Soybeans  1991        18800   \n",
       "\n",
       "      average_rain_fall_mm_per_year  Pesticies Value  Avg_Temp  \n",
       "24436                           686           557.92     25.34  \n",
       "4544                           1761        345026.00     20.33  \n",
       "11078                          1083         66388.00     27.04  \n",
       "15768                           832         81217.60      8.39  \n",
       "25759                          1712          1532.41     27.13  \n",
       "16424                          1668         79821.18     12.98  \n",
       "25730                          1712          1735.50     26.59  \n",
       "14745                          2702          1597.00     27.28  \n",
       "19479                           758         34468.93     25.21  \n",
       "2009                           1292           484.59     25.81  \n",
       "24557                          1162           917.49     11.58  \n",
       "26899                           593         40332.00     14.23  \n",
       "26634                           593         24219.00     14.88  \n",
       "9626                           1996         22883.17     19.90  \n",
       "4835                            608          3906.00      8.14  "
      ]
     },
     "execution_count": 64,
     "metadata": {},
     "output_type": "execute_result"
    }
   ],
   "source": [
    "merged_data.sample(15)"
   ]
  },
  {
   "cell_type": "code",
   "execution_count": 65,
   "id": "dc7b72ba",
   "metadata": {
    "execution": {
     "iopub.execute_input": "2023-05-27T14:59:06.692990Z",
     "iopub.status.busy": "2023-05-27T14:59:06.692537Z",
     "iopub.status.idle": "2023-05-27T14:59:06.697502Z",
     "shell.execute_reply": "2023-05-27T14:59:06.696377Z"
    },
    "papermill": {
     "duration": 0.042278,
     "end_time": "2023-05-27T14:59:06.700046",
     "exception": false,
     "start_time": "2023-05-27T14:59:06.657768",
     "status": "completed"
    },
    "tags": []
   },
   "outputs": [],
   "source": [
    "FinalData = merged_data"
   ]
  },
  {
   "cell_type": "code",
   "execution_count": 66,
   "id": "3289df77",
   "metadata": {
    "execution": {
     "iopub.execute_input": "2023-05-27T14:59:06.770054Z",
     "iopub.status.busy": "2023-05-27T14:59:06.768927Z",
     "iopub.status.idle": "2023-05-27T14:59:06.986788Z",
     "shell.execute_reply": "2023-05-27T14:59:06.985463Z"
    },
    "papermill": {
     "duration": 0.255573,
     "end_time": "2023-05-27T14:59:06.989644",
     "exception": false,
     "start_time": "2023-05-27T14:59:06.734071",
     "status": "completed"
    },
    "tags": []
   },
   "outputs": [],
   "source": [
    "FinalData.to_csv('/home/tipatle/Project/Crop Yield Prediction/Data/FinalCropYieldData.csv')"
   ]
  }
 ],
 "metadata": {
  "kernelspec": {
   "display_name": "Python 3",
   "language": "python",
   "name": "python3"
  },
  "language_info": {
   "codemirror_mode": {
    "name": "ipython",
    "version": 3
   },
   "file_extension": ".py",
   "mimetype": "text/x-python",
   "name": "python",
   "nbconvert_exporter": "python",
   "pygments_lexer": "ipython3",
   "version": "3.10.6"
  },
  "papermill": {
   "default_parameters": {},
   "duration": 24.596859,
   "end_time": "2023-05-27T14:59:08.047359",
   "environment_variables": {},
   "exception": null,
   "input_path": "__notebook__.ipynb",
   "output_path": "__notebook__.ipynb",
   "parameters": {},
   "start_time": "2023-05-27T14:58:43.450500",
   "version": "2.4.0"
  }
 },
 "nbformat": 4,
 "nbformat_minor": 5
}
